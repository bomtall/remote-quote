{
 "cells": [
  {
   "cell_type": "code",
   "execution_count": 1,
   "metadata": {},
   "outputs": [],
   "source": [
    "import ipywidgets as widgets"
   ]
  },
  {
   "cell_type": "code",
   "execution_count": null,
   "metadata": {},
   "outputs": [],
   "source": []
  },
  {
   "cell_type": "code",
   "execution_count": null,
   "metadata": {},
   "outputs": [],
   "source": []
  },
  {
   "cell_type": "code",
   "execution_count": 2,
   "metadata": {},
   "outputs": [],
   "source": [
    "# def surface_on_click_button(tab, *args, **kwargs):\n",
    "#     selected_tab_index = surface_widgets_dict['tab'].selected_index\n",
    "#     selected_tab = selected_tab_index + 1\n",
    "#     slider_value = surface_widgets_dict['surfaces']['widget_list'][selected_tab_index]['slider'].value\n",
    "#     message = f'You have clicked button on tab {selected_tab}! The slider value on this tab is {slider_value}'\n",
    "#     if selected_tab == 2:\n",
    "#         surface_widgets_dict['surfaces']['widget_list'][selected_tab_index]['text'].value = message\n",
    "#     else:\n",
    "#         surface_widgets_dict['surfaces']['widget_list'][selected_tab_index]['text'].value = 'not tab 2'"
   ]
  },
  {
   "cell_type": "code",
   "execution_count": 3,
   "metadata": {},
   "outputs": [],
   "source": [
    "def on_change_num_surfaces(num_surfaces_change):\n",
    "    if num_surfaces_change['type'] == 'change' and num_surfaces_change['name'] == 'value':\n",
    "        selected_room_index = form_widgets_dict['tab'].selected_index\n",
    "        selected_room = selected_room_index + 1\n",
    "        \n",
    "        # creating form and widget list of dictionaries for each of the surfaces inside selected room index\n",
    "        form_widgets_dict['rooms']['widget_dict_list'][selected_room_index]['surfaces']['form_list'] = []\n",
    "        form_widgets_dict['rooms']['widget_dict_list'][selected_room_index]['surfaces']['widget_dict_list'] = []\n",
    "        for surface_index in range(1, num_surfaces_change['new'] + 1):\n",
    "            \n",
    "            # Create dictionary of widgets which will be contained in the surface form            \n",
    "            widgets_surface_dict = dict()\n",
    "            widgets_surface_dict['slider'] = widgets.FloatSlider()\n",
    "            widgets_surface_dict['text'] = widgets.Textarea()\n",
    "            widgets_surface_dict['button'] = widgets.Button(description=str(surface_index))\n",
    "            #widgets_surface_dict['button'].observe(on_click)\n",
    "            \n",
    "            # Create the surface form widget\n",
    "            widgets_surface_form = widgets.Box(list(widgets_surface_dict.values()))\n",
    "            \n",
    "            # Put the surface widgets and surface form inside of the global level dictionary for the whole form\n",
    "            # to be able to reference them in callbacks\n",
    "            (form_widgets_dict['rooms']['widget_dict_list'][selected_room_index]['surfaces']['widget_dict_list']\n",
    "            .append(widgets_surface_dict))\n",
    "            (form_widgets_dict['rooms']['widget_dict_list'][selected_room_index]['surfaces']['form_list']\n",
    "             .append(widgets_surface_form))\n",
    "        \n",
    "        # assignment of forms created for each surface to surface tab widgets\n",
    "        form_widgets_dict['rooms']['widget_dict_list'][selected_room_index]['tab'].children = \\\n",
    "        form_widgets_dict['rooms']['widget_dict_list'][selected_room_index]['surfaces']['form_list']\n",
    "        \n",
    "        \n",
    "        # setting titles of surface tabs\n",
    "        for i in range(len(form_widgets_dict['rooms']['widget_dict_list'][selected_room_index]['tab'].children)):\n",
    "            form_widgets_dict['rooms']['widget_dict_list'][selected_room_index]['tab'].set_title(title=\n",
    "                                                                                           'Surface' + str(i + 1), index=i)"
   ]
  },
  {
   "cell_type": "code",
   "execution_count": 4,
   "metadata": {},
   "outputs": [],
   "source": [
    "# surface_widgets_dict['dropdown_num_surfaces'].observe(on_change_num_surfaces)"
   ]
  },
  {
   "cell_type": "code",
   "execution_count": 5,
   "metadata": {},
   "outputs": [],
   "source": [
    "# display(widgets.VBox([surface_widgets_dict['dropdown_num_surfaces'], surface_widgets_dict['tab']]))"
   ]
  },
  {
   "cell_type": "code",
   "execution_count": 6,
   "metadata": {},
   "outputs": [],
   "source": [
    "# print(widgets_dict['rooms']['dict'][0])\n",
    "# print(widgets_dict['rooms']['dict'][1])"
   ]
  },
  {
   "cell_type": "code",
   "execution_count": 7,
   "metadata": {},
   "outputs": [],
   "source": [
    "#######ROOOOOOMS"
   ]
  },
  {
   "cell_type": "code",
   "execution_count": 8,
   "metadata": {},
   "outputs": [],
   "source": [
    "def on_change_num_rooms(num_rooms_change):\n",
    "    \n",
    "    # fuction responding to number of rooms dropdown to create rooms.\n",
    "    if num_rooms_change['type'] == 'change' and num_rooms_change['name'] == 'value':\n",
    "        \n",
    "        # creation of form and list of widget dictionaries for each room\n",
    "        form_widgets_dict['rooms'] = dict()\n",
    "        form_widgets_dict['rooms']['form_list'] = []\n",
    "        form_widgets_dict['rooms']['widget_dict_list'] = []\n",
    "        for room_index in range(1, num_rooms_change['new'] + 1):    \n",
    "            \n",
    "            # creation of surface form dictionary, creation of tab widgets for surfaces, \n",
    "            # creation of dictionary for widgets inside surfaces tab\n",
    "            room_widgets_surface_form_dict = dict()\n",
    "            room_widgets_surface_form_dict['tab'] = widgets.Tab()              \n",
    "            room_widgets_surface_form_dict['surfaces'] = dict()\n",
    "            \n",
    "            # creation of dropdown to select number of surfaces\n",
    "            num_surfaces_max = 5\n",
    "            room_widgets_surface_form_dict['dropdown_num_surfaces'] = widgets.Dropdown(options=range(1, num_surfaces_max + 1), \n",
    "                                                                             description='Num Surfaces:') \n",
    "            # calling function on change of dropdown\n",
    "            room_widgets_surface_form_dict['dropdown_num_surfaces'].observe(on_change_num_surfaces)\n",
    "                 \n",
    "            # making the widget for the form inside room tab        \n",
    "            widgets_room_form = widgets.Box([room_widgets_surface_form_dict['dropdown_num_surfaces'],\n",
    "                                             room_widgets_surface_form_dict['tab']])\n",
    "            \n",
    "            # Put the room widgets and room form inside of the global level dictionary for the whole form\n",
    "            # to be able to reference them in callbacks            \n",
    "            form_widgets_dict['rooms']['widget_dict_list'].append(room_widgets_surface_form_dict)\n",
    "            form_widgets_dict['rooms']['form_list'].append(widgets_room_form)\n",
    "            \n",
    "        # assignment of forms created for each room to room tab widgets   \n",
    "        form_widgets_dict['tab'].children = form_widgets_dict['rooms']['form_list']\n",
    "        \n",
    "        # Setting titles for the room tabs\n",
    "        for i in range(len(form_widgets_dict['tab'].children)):\n",
    "            form_widgets_dict['tab'].set_title(title='Room' + str(i + 1), index=i)\n",
    "            \n",
    "            "
   ]
  },
  {
   "cell_type": "code",
   "execution_count": 9,
   "metadata": {},
   "outputs": [
    {
     "data": {
      "application/vnd.jupyter.widget-view+json": {
       "model_id": "2c56eb238f2148e887e5ac80e9473420",
       "version_major": 2,
       "version_minor": 0
      },
      "text/plain": [
       "VBox(children=(Dropdown(description='Num Rooms:', options=(1, 2, 3, 4, 5), value=1), Tab()))"
      ]
     },
     "metadata": {},
     "output_type": "display_data"
    }
   ],
   "source": [
    "\n",
    "###overall form\n",
    "\n",
    "# creation of room form dictionary, creation of the tab widget to manage room tabs, \n",
    "# creation of dictionary for widgets inside room tab\n",
    "form_widgets_dict = dict()\n",
    "form_widgets_dict['tab'] = widgets.Tab()\n",
    "form_widgets_dict['rooms'] = dict()\n",
    "\n",
    "num_rooms_max = 5\n",
    "form_widgets_dict['dropdown_num_rooms'] = widgets.Dropdown(options=range(1, num_rooms_max + 1),\n",
    "                                                                 description='Num Rooms:')\n",
    "\n",
    "form_widgets_dict['dropdown_num_rooms'].observe(on_change_num_rooms)\n",
    "\n",
    "display(widgets.VBox([form_widgets_dict['dropdown_num_rooms'], form_widgets_dict['tab']]))\n"
   ]
  },
  {
   "cell_type": "code",
   "execution_count": null,
   "metadata": {},
   "outputs": [],
   "source": []
  }
 ],
 "metadata": {
  "kernelspec": {
   "display_name": "Python 3",
   "language": "python",
   "name": "python3"
  },
  "language_info": {
   "codemirror_mode": {
    "name": "ipython",
    "version": 3
   },
   "file_extension": ".py",
   "mimetype": "text/x-python",
   "name": "python",
   "nbconvert_exporter": "python",
   "pygments_lexer": "ipython3",
   "version": "3.8.5"
  }
 },
 "nbformat": 4,
 "nbformat_minor": 4
}
