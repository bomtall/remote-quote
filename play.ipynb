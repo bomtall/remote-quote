{
 "cells": [
  {
   "cell_type": "code",
   "execution_count": 6,
   "metadata": {},
   "outputs": [],
   "source": [
    "import importlib\n",
    "import core\n",
    "import paint_link\n",
    "_=importlib.reload(core)\n",
    "import ipywidgets as widgets\n",
    "import base64\n",
    "from IPython.display import display\n",
    "from ipywidgets import HTML\n",
    "import math\n",
    "import random\n",
    "import knapsack\n",
    "_=importlib.reload(knapsack)\n",
    "import test_core\n",
    "\n",
    "_=importlib.reload(test_core)"
   ]
  },
  {
   "cell_type": "markdown",
   "metadata": {},
   "source": [
    "## RemoteQuote\n"
   ]
  },
  {
   "cell_type": "code",
   "execution_count": 2,
   "metadata": {},
   "outputs": [
    {
     "ename": "TypeError",
     "evalue": "'builtin_function_or_method' object is not iterable",
     "output_type": "error",
     "traceback": [
      "\u001b[1;31m---------------------------------------------------------------------------\u001b[0m",
      "\u001b[1;31mTypeError\u001b[0m                                 Traceback (most recent call last)",
      "\u001b[1;32m<ipython-input-2-8e081dde31fb>\u001b[0m in \u001b[0;36m<module>\u001b[1;34m\u001b[0m\n\u001b[1;32m----> 1\u001b[1;33m \u001b[0mlist\u001b[0m\u001b[1;33m(\u001b[0m\u001b[1;33m{\u001b[0m\u001b[1;34m'a'\u001b[0m\u001b[1;33m:\u001b[0m \u001b[1;33m[\u001b[0m\u001b[1;36m1\u001b[0m\u001b[1;33m,\u001b[0m \u001b[1;36m2\u001b[0m\u001b[1;33m,\u001b[0m \u001b[1;36m3\u001b[0m\u001b[1;33m]\u001b[0m\u001b[1;33m}\u001b[0m\u001b[1;33m.\u001b[0m\u001b[0mvalues\u001b[0m\u001b[1;33m)\u001b[0m\u001b[1;33m\u001b[0m\u001b[1;33m\u001b[0m\u001b[0m\n\u001b[0m",
      "\u001b[1;31mTypeError\u001b[0m: 'builtin_function_or_method' object is not iterable"
     ]
    }
   ],
   "source": [
    "list({'a': [1, 2, 3]}.values)"
   ]
  },
  {
   "cell_type": "code",
   "execution_count": 1,
   "metadata": {},
   "outputs": [],
   "source": [
    "x = 1"
   ]
  },
  {
   "cell_type": "code",
   "execution_count": 8,
   "metadata": {},
   "outputs": [
    {
     "data": {
      "text/plain": [
       "{'__name__': '__main__',\n",
       " '__doc__': 'Automatically created module for IPython interactive environment',\n",
       " '__package__': None,\n",
       " '__loader__': None,\n",
       " '__spec__': None,\n",
       " '__builtin__': <module 'builtins' (built-in)>,\n",
       " '__builtins__': <module 'builtins' (built-in)>,\n",
       " '_ih': ['',\n",
       "  'x = 1',\n",
       "  'globals()',\n",
       "  \"globals()['x']\",\n",
       "  'globals()',\n",
       "  '#example painting surface inputs\\n\\nroom_test_painting_surface = core.PaintingSurface(core.Wall(8), core.Paint(30, 5, 17))\\nroom_test_painting_surface_2 = core.PaintingSurface(core.Wall(10), core.MattEmulsionPaint())\\nroom_test_painting_surface_3 = core.PaintingSurface(core.Wall(20, substrate=core.Plaster()), core.DiamondMattEmulsion())\\nroom_test_painting_surface_4 = core.PaintingSurface(core.Skirtingboard(1, substrate=core.Mdf(primed=True)), core.OilEggshell())',\n",
       "  'import importlib\\nimport core\\nimport paint_link\\n_=importlib.reload(core)\\nimport ipywidgets as widgets\\nimport base64\\nfrom IPython.display import display\\nfrom ipywidgets import HTML\\nimport math\\nimport random\\nimport knapsack\\n_=importlib.reload(knapsack)\\nimport test_core\\n\\n_=importlib.reload(test_core)',\n",
       "  '#example painting surface inputs\\n\\nroom_test_painting_surface = core.PaintingSurface(core.Wall(8), core.Paint(30, 5, 17))\\nroom_test_painting_surface_2 = core.PaintingSurface(core.Wall(10), core.MattEmulsionPaint())\\nroom_test_painting_surface_3 = core.PaintingSurface(core.Wall(20, substrate=core.Plaster()), core.DiamondMattEmulsion())\\nroom_test_painting_surface_4 = core.PaintingSurface(core.Skirtingboard(1, substrate=core.Mdf(primed=True)), core.OilEggshell())',\n",
       "  'globals()'],\n",
       " '_oh': {2: {...}, 3: 1, 4: {...}},\n",
       " '_dh': ['C:\\\\code\\\\remote-quote'],\n",
       " 'In': ['',\n",
       "  'x = 1',\n",
       "  'globals()',\n",
       "  \"globals()['x']\",\n",
       "  'globals()',\n",
       "  '#example painting surface inputs\\n\\nroom_test_painting_surface = core.PaintingSurface(core.Wall(8), core.Paint(30, 5, 17))\\nroom_test_painting_surface_2 = core.PaintingSurface(core.Wall(10), core.MattEmulsionPaint())\\nroom_test_painting_surface_3 = core.PaintingSurface(core.Wall(20, substrate=core.Plaster()), core.DiamondMattEmulsion())\\nroom_test_painting_surface_4 = core.PaintingSurface(core.Skirtingboard(1, substrate=core.Mdf(primed=True)), core.OilEggshell())',\n",
       "  'import importlib\\nimport core\\nimport paint_link\\n_=importlib.reload(core)\\nimport ipywidgets as widgets\\nimport base64\\nfrom IPython.display import display\\nfrom ipywidgets import HTML\\nimport math\\nimport random\\nimport knapsack\\n_=importlib.reload(knapsack)\\nimport test_core\\n\\n_=importlib.reload(test_core)',\n",
       "  '#example painting surface inputs\\n\\nroom_test_painting_surface = core.PaintingSurface(core.Wall(8), core.Paint(30, 5, 17))\\nroom_test_painting_surface_2 = core.PaintingSurface(core.Wall(10), core.MattEmulsionPaint())\\nroom_test_painting_surface_3 = core.PaintingSurface(core.Wall(20, substrate=core.Plaster()), core.DiamondMattEmulsion())\\nroom_test_painting_surface_4 = core.PaintingSurface(core.Skirtingboard(1, substrate=core.Mdf(primed=True)), core.OilEggshell())',\n",
       "  'globals()'],\n",
       " 'Out': {2: {...}, 3: 1, 4: {...}},\n",
       " 'get_ipython': <bound method InteractiveShell.get_ipython of <ipykernel.zmqshell.ZMQInteractiveShell object at 0x0000027CBFBA6310>>,\n",
       " 'exit': <IPython.core.autocall.ZMQExitAutocall at 0x27cbfc23eb0>,\n",
       " 'quit': <IPython.core.autocall.ZMQExitAutocall at 0x27cbfc23eb0>,\n",
       " '_': <module 'test_core' from 'C:\\\\code\\\\remote-quote\\\\test_core.py'>,\n",
       " '__': 1,\n",
       " '___': {...},\n",
       " '_i': '#example painting surface inputs\\n\\nroom_test_painting_surface = core.PaintingSurface(core.Wall(8), core.Paint(30, 5, 17))\\nroom_test_painting_surface_2 = core.PaintingSurface(core.Wall(10), core.MattEmulsionPaint())\\nroom_test_painting_surface_3 = core.PaintingSurface(core.Wall(20, substrate=core.Plaster()), core.DiamondMattEmulsion())\\nroom_test_painting_surface_4 = core.PaintingSurface(core.Skirtingboard(1, substrate=core.Mdf(primed=True)), core.OilEggshell())',\n",
       " '_ii': 'import importlib\\nimport core\\nimport paint_link\\n_=importlib.reload(core)\\nimport ipywidgets as widgets\\nimport base64\\nfrom IPython.display import display\\nfrom ipywidgets import HTML\\nimport math\\nimport random\\nimport knapsack\\n_=importlib.reload(knapsack)\\nimport test_core\\n\\n_=importlib.reload(test_core)',\n",
       " '_iii': '#example painting surface inputs\\n\\nroom_test_painting_surface = core.PaintingSurface(core.Wall(8), core.Paint(30, 5, 17))\\nroom_test_painting_surface_2 = core.PaintingSurface(core.Wall(10), core.MattEmulsionPaint())\\nroom_test_painting_surface_3 = core.PaintingSurface(core.Wall(20, substrate=core.Plaster()), core.DiamondMattEmulsion())\\nroom_test_painting_surface_4 = core.PaintingSurface(core.Skirtingboard(1, substrate=core.Mdf(primed=True)), core.OilEggshell())',\n",
       " '_i1': 'x = 1',\n",
       " 'x': 1,\n",
       " '_i2': 'globals()',\n",
       " '_2': {...},\n",
       " '_i3': \"globals()['x']\",\n",
       " '_3': 1,\n",
       " '_i4': 'globals()',\n",
       " '_4': {...},\n",
       " '_i5': '#example painting surface inputs\\n\\nroom_test_painting_surface = core.PaintingSurface(core.Wall(8), core.Paint(30, 5, 17))\\nroom_test_painting_surface_2 = core.PaintingSurface(core.Wall(10), core.MattEmulsionPaint())\\nroom_test_painting_surface_3 = core.PaintingSurface(core.Wall(20, substrate=core.Plaster()), core.DiamondMattEmulsion())\\nroom_test_painting_surface_4 = core.PaintingSurface(core.Skirtingboard(1, substrate=core.Mdf(primed=True)), core.OilEggshell())',\n",
       " '_i6': 'import importlib\\nimport core\\nimport paint_link\\n_=importlib.reload(core)\\nimport ipywidgets as widgets\\nimport base64\\nfrom IPython.display import display\\nfrom ipywidgets import HTML\\nimport math\\nimport random\\nimport knapsack\\n_=importlib.reload(knapsack)\\nimport test_core\\n\\n_=importlib.reload(test_core)',\n",
       " 'importlib': <module 'importlib' from 'c:\\\\users\\\\thoma\\\\anaconda3\\\\envs\\\\remote-quote\\\\lib\\\\importlib\\\\__init__.py'>,\n",
       " 'core': <module 'core' from 'C:\\\\code\\\\remote-quote\\\\core.py'>,\n",
       " 'paint_link': <module 'paint_link' from 'C:\\\\code\\\\remote-quote\\\\paint_link.py'>,\n",
       " 'widgets': <module 'ipywidgets' from 'c:\\\\users\\\\thoma\\\\anaconda3\\\\envs\\\\remote-quote\\\\lib\\\\site-packages\\\\ipywidgets\\\\__init__.py'>,\n",
       " 'base64': <module 'base64' from 'c:\\\\users\\\\thoma\\\\anaconda3\\\\envs\\\\remote-quote\\\\lib\\\\base64.py'>,\n",
       " 'display': <function IPython.core.display.display(*objs, include=None, exclude=None, metadata=None, transient=None, display_id=None, **kwargs)>,\n",
       " 'HTML': ipywidgets.widgets.widget_string.HTML,\n",
       " 'math': <module 'math' (built-in)>,\n",
       " 'random': <module 'random' from 'c:\\\\users\\\\thoma\\\\anaconda3\\\\envs\\\\remote-quote\\\\lib\\\\random.py'>,\n",
       " 'knapsack': <module 'knapsack' from 'C:\\\\code\\\\remote-quote\\\\knapsack.py'>,\n",
       " 'test_core': <module 'test_core' from 'C:\\\\code\\\\remote-quote\\\\test_core.py'>,\n",
       " '_i7': '#example painting surface inputs\\n\\nroom_test_painting_surface = core.PaintingSurface(core.Wall(8), core.Paint(30, 5, 17))\\nroom_test_painting_surface_2 = core.PaintingSurface(core.Wall(10), core.MattEmulsionPaint())\\nroom_test_painting_surface_3 = core.PaintingSurface(core.Wall(20, substrate=core.Plaster()), core.DiamondMattEmulsion())\\nroom_test_painting_surface_4 = core.PaintingSurface(core.Skirtingboard(1, substrate=core.Mdf(primed=True)), core.OilEggshell())',\n",
       " 'room_test_painting_surface': <core.PaintingSurface at 0x27cc0411940>,\n",
       " 'room_test_painting_surface_2': <core.PaintingSurface at 0x27cc0411790>,\n",
       " 'room_test_painting_surface_3': <core.PaintingSurface at 0x27cc04041f0>,\n",
       " 'room_test_painting_surface_4': <core.PaintingSurface at 0x27cc01236a0>,\n",
       " '_i8': 'globals()'}"
      ]
     },
     "execution_count": 8,
     "metadata": {},
     "output_type": "execute_result"
    }
   ],
   "source": [
    "globals()"
   ]
  },
  {
   "cell_type": "code",
   "execution_count": 7,
   "metadata": {},
   "outputs": [],
   "source": [
    "#example painting surface inputs\n",
    "\n",
    "room_test_painting_surface = core.PaintingSurface(core.Wall(8), core.Paint(30, 5, 17))\n",
    "room_test_painting_surface_2 = core.PaintingSurface(core.Wall(10), core.MattEmulsionPaint())\n",
    "room_test_painting_surface_3 = core.PaintingSurface(core.Wall(20, substrate=core.Plaster()), core.DiamondMattEmulsion())\n",
    "room_test_painting_surface_4 = core.PaintingSurface(core.Skirtingboard(1, substrate=core.Mdf(primed=True)), core.OilEggshell())"
   ]
  },
  {
   "cell_type": "code",
   "execution_count": null,
   "metadata": {},
   "outputs": [],
   "source": []
  },
  {
   "cell_type": "code",
   "execution_count": 3,
   "metadata": {},
   "outputs": [],
   "source": [
    "#example room inputs \n",
    "\n",
    "room_1 = core.Room([room_test_painting_surface, room_test_painting_surface_2], name='room_1')\n",
    "room_2 = core.Room([room_test_painting_surface_3, room_test_painting_surface_4], name = 'room_2')\n",
    "\n"
   ]
  },
  {
   "cell_type": "code",
   "execution_count": 5,
   "metadata": {},
   "outputs": [
    {
     "name": "stdout",
     "output_type": "stream",
     "text": [
      "[[{'room_name': 'room_1', 'surface_name': 'Wall', 'total_price': 62, 'labour_price': 32, 'paint_price': 30, 'units_of_paint': 1, 'surface_area': 8}, {'room_name': 'room_1', 'surface_name': 'Wall', 'total_price': 77.87, 'labour_price': 40, 'paint_price': 37.87, 'units_of_paint': 1, 'surface_area': 10}], [{'room_name': 'room_2', 'surface_name': 'Wall', 'total_price': 210.03, 'labour_price': 160, 'paint_price': 50.03, 'units_of_paint': 1, 'surface_area': 20}, {'room_name': 'room_2', 'surface_name': 'Skirting board', 'total_price': 40.870000000000005, 'labour_price': 8.8, 'paint_price': 32.07, 'units_of_paint': 1, 'surface_area': 1}]]\n",
      "390.77\n",
      "149.97\n",
      "240.8\n"
     ]
    }
   ],
   "source": [
    "#example job input\n",
    "\n",
    "job_1= core.Job([room_1, room_2])\n",
    "\n",
    "\n",
    "print(job_1.get_breakdown())\n",
    "print(job_1.get_total_price())\n",
    "print(job_1.get_paint_price())\n",
    "print(job_1.get_labour_price())"
   ]
  },
  {
   "cell_type": "code",
   "execution_count": null,
   "metadata": {},
   "outputs": [],
   "source": [
    "surface_list = job_1.get_painting_surface_list()\n",
    "value, costs = job_1.get_area_cost_lists(surface_list)\n",
    "optimal_index_list = knapsack.optimal_knapsack(300, value, costs)\n",
    "optimal_surface_list = [surface_list[i] for i in optimal_index_list]"
   ]
  },
  {
   "cell_type": "code",
   "execution_count": null,
   "metadata": {},
   "outputs": [],
   "source": [
    "optimised_job = job_1.get_optimised_job(300)\n",
    "optimised_job.get_summary()"
   ]
  },
  {
   "cell_type": "code",
   "execution_count": null,
   "metadata": {},
   "outputs": [],
   "source": [
    "# optimal_surface_list = []\n",
    "# for x in optimal_list:\n",
    "    \n",
    "#     optimal_surface_list.append(surface_list[x])\n",
    "    "
   ]
  },
  {
   "cell_type": "code",
   "execution_count": null,
   "metadata": {},
   "outputs": [],
   "source": [
    "optimal_surface_list[0].surface.name"
   ]
  },
  {
   "cell_type": "code",
   "execution_count": null,
   "metadata": {},
   "outputs": [],
   "source": [
    "new_room = core.Room(optimal_surface_list, name='')\n",
    "new_room.get_breakdown()"
   ]
  },
  {
   "cell_type": "code",
   "execution_count": null,
   "metadata": {},
   "outputs": [],
   "source": [
    "\n",
    "\n",
    "# def get_area_cost_lists(painting_surface_list):\n",
    "       \n",
    "#     surface_area_list = []\n",
    "#     painting_price_list = []\n",
    "    \n",
    "#     # creating value and cost lists for knapsack\n",
    "#     for painting_surface in painting_surface_list:\n",
    "#         surface_area_list.append(painting_surface.surface.area)\n",
    "#         painting_price_list.append(math.ceil(painting_surface.get_total_price()))\n",
    "        \n",
    "#     return surface_area_list, painting_price_list\n",
    "    "
   ]
  },
  {
   "cell_type": "code",
   "execution_count": null,
   "metadata": {},
   "outputs": [],
   "source": [
    "#value, costs = prepare_surface_list(painting_surface_list)\n",
    "\n",
    "\n",
    "value, costs = get_area_cost_lists(job_1.get_painting_surface_list())\n",
    "\n",
    "\n",
    "\n",
    "\n",
    "\n",
    "print(value, costs)\n"
   ]
  },
  {
   "cell_type": "code",
   "execution_count": null,
   "metadata": {},
   "outputs": [],
   "source": [
    "def optimal_knapsack(capacity, values, costs):          \n",
    "    # initialising matrix k\n",
    "    k = []\n",
    "    list_budget_size = range(capacity + 1)\n",
    "    m = range(len(list_budget_size))\n",
    "    n = range(len(costs))\n",
    "    \n",
    "    for i in n:\n",
    "        l = []\n",
    "        for j in m:\n",
    "            l.append(-1)    \n",
    "        k.append(l)    \n",
    "        \n",
    "    # filling in matrix k        \n",
    "    for i in n:\n",
    "        for w in m:\n",
    "            if i == 0 or w == 0:\n",
    "                k[i][w] = 0\n",
    "            elif costs[i] <= w:\n",
    "                k[i][w] = max((values[i] + k[i-1][w-costs[i]]), (k[i-1][w]))  \n",
    "            else:\n",
    "                k[i][w] = k[i-1][w]\n",
    "                \n",
    "    # backtrack through matrix k to find included elements        \n",
    "    i = len(k) - 1\n",
    "    j = len(k[0]) - 1\n",
    "    included_items = []\n",
    "\n",
    "    while i > 0 and j > 0:        \n",
    "        if k[i][j] != k[i-1][j]:\n",
    "            included_items.append(i)\n",
    "            j = j-costs[i] \n",
    "        i = i-1\n",
    "        \n",
    "    return included_items\n",
    "    print(k)\n",
    "\n",
    "    "
   ]
  },
  {
   "cell_type": "code",
   "execution_count": null,
   "metadata": {},
   "outputs": [],
   "source": [
    "optimal_knapsack(8, [1,2,5,6], [2,3,4,5])"
   ]
  },
  {
   "cell_type": "code",
   "execution_count": null,
   "metadata": {},
   "outputs": [],
   "source": [
    "#optimal_knapsack(300, value, costs)\n",
    "random_values = [random.randint(1, 100) for iter in range(20)]\n",
    "random_costs = [random.randint(1, 500) for iter in range(20)]\n",
    "\n",
    "\n",
    "optimal_knapsack(300, value, costs)"
   ]
  },
  {
   "cell_type": "code",
   "execution_count": null,
   "metadata": {},
   "outputs": [],
   "source": [
    "\n",
    "\n",
    "%%time\n",
    "optimal_knapsack(3000, random_values, random_costs)"
   ]
  },
  {
   "cell_type": "code",
   "execution_count": 16,
   "metadata": {},
   "outputs": [],
   "source": [
    "wt = [0, 2, 3, 4, 5]\n",
    "p = [0, 1, 2, 5, 6]\n",
    "\n",
    "\n",
    "capacity = 8\n",
    "\n",
    "ws = range(capacity + 1)\n",
    "\n",
    "\n",
    "\n",
    "n = range(len(wt))\n",
    "m = range(len(ws))"
   ]
  },
  {
   "cell_type": "code",
   "execution_count": 17,
   "metadata": {},
   "outputs": [],
   "source": [
    "k = []\n",
    "\n",
    "for i in n:\n",
    "    l = []\n",
    "    for j in m:\n",
    "        l.append(-1)\n",
    "#         print(f'{i}, {j}: l={l}')\n",
    "    \n",
    "    k.append(l)\n",
    "#     print(f'{i}: k={k}')"
   ]
  },
  {
   "cell_type": "code",
   "execution_count": 18,
   "metadata": {},
   "outputs": [
    {
     "data": {
      "text/plain": [
       "[[-1, -1, -1, -1, -1, -1, -1, -1, -1],\n",
       " [-1, -1, -1, -1, -1, -1, -1, -1, -1],\n",
       " [-1, -1, -1, -1, -1, -1, -1, -1, -1],\n",
       " [-1, -1, -1, -1, -1, -1, -1, -1, -1],\n",
       " [-1, -1, -1, -1, -1, -1, -1, -1, -1]]"
      ]
     },
     "execution_count": 18,
     "metadata": {},
     "output_type": "execute_result"
    }
   ],
   "source": [
    "k"
   ]
  },
  {
   "cell_type": "code",
   "execution_count": 19,
   "metadata": {},
   "outputs": [],
   "source": [
    "for i in n:\n",
    "    for w in m:\n",
    "        if i == 0 or w == 0:\n",
    "            k[i][w] = 0\n",
    "        elif wt[i] <= w:\n",
    "            k[i][w] = max((p[i] + k[i-1][w-wt[i]]), (k[i-1][w]))  \n",
    "        else:\n",
    "            k[i][w] = k[i-1][w]\n",
    "            "
   ]
  },
  {
   "cell_type": "code",
   "execution_count": 20,
   "metadata": {},
   "outputs": [
    {
     "data": {
      "text/plain": [
       "[[0, 0, 0, 0, 0, 0, 0, 0, 0],\n",
       " [0, 0, 1, 1, 1, 1, 1, 1, 1],\n",
       " [0, 0, 1, 2, 2, 3, 3, 3, 3],\n",
       " [0, 0, 1, 2, 5, 5, 6, 7, 7],\n",
       " [0, 0, 1, 2, 5, 6, 6, 7, 8]]"
      ]
     },
     "execution_count": 20,
     "metadata": {},
     "output_type": "execute_result"
    }
   ],
   "source": [
    "k"
   ]
  },
  {
   "cell_type": "code",
   "execution_count": 21,
   "metadata": {
    "scrolled": true
   },
   "outputs": [
    {
     "name": "stdout",
     "output_type": "stream",
     "text": [
      "i=4\n",
      "j=8\n",
      "8\n",
      "7\n",
      "5 = 1\n",
      "i=3\n",
      "j=3\n",
      "2\n",
      "2\n",
      "4 = 0\n",
      "i=2\n",
      "j=3\n",
      "2\n",
      "1\n",
      "3 = 1\n"
     ]
    }
   ],
   "source": [
    "i = len(k) - 1\n",
    "j = len(k[0]) - 1\n",
    "\n",
    "included_items = []\n",
    "\n",
    "while i > 0 and j > 0:\n",
    "    \n",
    "        \n",
    "        print(f'i={i}')\n",
    "        print(f'j={j}')\n",
    "        print(k[i][j])\n",
    "        print(k[i-1][j])\n",
    "            \n",
    "        if k[i][j] == k[i-1][j]:\n",
    "            \n",
    "            print(wt[i], '= 0') \n",
    "            \n",
    "            \n",
    "        elif k[i][j] != k[i-1][j]:\n",
    "            \n",
    "            print(wt[i], '= 1')\n",
    "            included_items.append(f'{wt[i]} = 1, {i} in list wt. Profit = {p[i]}')\n",
    "            j = j-wt[i] \n",
    "            \n",
    "        \n",
    "        i = i-1"
   ]
  },
  {
   "cell_type": "code",
   "execution_count": 22,
   "metadata": {},
   "outputs": [
    {
     "name": "stdout",
     "output_type": "stream",
     "text": [
      "['5 = 1, 4 in list wt. Profit = 6', '3 = 1, 2 in list wt. Profit = 2']\n"
     ]
    }
   ],
   "source": [
    "print(included_items) \n"
   ]
  },
  {
   "cell_type": "code",
   "execution_count": 23,
   "metadata": {},
   "outputs": [
    {
     "name": "stdout",
     "output_type": "stream",
     "text": [
      "[[0, 0, 0, 0, 0, 0, 0, 0, 0], [0, 0, 1, 1, 1, 1, 1, 1, 1], [0, 0, 1, 2, 2, 3, 3, 3, 3], [0, 0, 1, 2, 5, 5, 6, 7, 7], [0, 0, 1, 2, 5, 6, 6, 7, 8]]\n"
     ]
    }
   ],
   "source": [
    "print(k)"
   ]
  },
  {
   "cell_type": "code",
   "execution_count": null,
   "metadata": {},
   "outputs": [],
   "source": [
    "def optimal_knapsack(capacity, values, costs):\n",
    "    \n",
    "    list_budget_size = range(capacity + 1)\n",
    "    \n",
    "    m = range(len(list_budget_size))\n",
    "    n = range(len(costs))\n",
    "    \n",
    "    k = []\n",
    "\n",
    "    for i in n:\n",
    "        l = []\n",
    "        for j in m:\n",
    "            l.append(-1)\n",
    "    \n",
    "        k.append(l)\n",
    "        \n",
    "    print(k)\n",
    "        \n",
    "    for i in n:\n",
    "        for w in m:\n",
    "            if i == 0 or w == 0:\n",
    "                k[i][w] = 0\n",
    "            elif costs[i] <= w:\n",
    "                k[i][w] = max((values[i] + k[i-1][w-costs[i]]), (k[i-1][w]))  \n",
    "            else:\n",
    "                k[i][w] = k[i-1][w]\n",
    "            \n",
    "    i = len(k) - 1\n",
    "    j = len(k[0]) - 1\n",
    "\n",
    "    included_items = []\n",
    "\n",
    "    while i > 0 and j > 0:\n",
    "\n",
    "\n",
    "#             print(f'i={i}')\n",
    "#             print(f'j={j}')\n",
    "#             print(k[i][j])\n",
    "#             print(k[i-1][j])\n",
    "\n",
    "            if k[i][j] == k[i-1][j]:\n",
    "\n",
    "                #print(costs[i], '= 0') \n",
    "\n",
    "\n",
    "            elif k[i][j] != k[i-1][j]:\n",
    "\n",
    "                print(costs[i], '= 1')\n",
    "                included_items.append(i)\n",
    "                j = j-costs[i] \n",
    "\n",
    "\n",
    "            i = i-1\n",
    "    return included_items\n",
    "\n",
    "    "
   ]
  },
  {
   "cell_type": "code",
   "execution_count": null,
   "metadata": {},
   "outputs": [],
   "source": []
  },
  {
   "cell_type": "code",
   "execution_count": null,
   "metadata": {},
   "outputs": [],
   "source": [
    "# def get_optimal_budget(job, max_money):\n",
    "    \n",
    "#     unit_area_price_list = []\n",
    "#     for room in job.rooms:\n",
    "#         for painting_surface in room.painting_surfaces:\n",
    "#             price = painting_surface.get_total_price()\n",
    "#             surface_area = painting_surface.surface.area\n",
    "#             unit_area_price = price / surface_area\n",
    "#             unit_area_price_list.append(unit_area_price)\n",
    "            \n",
    "#     unit_area_price_list.sort()\n",
    "#     return unit_area_price_list[0]\n",
    "\n",
    "\n",
    "def get_optimal_surface(job):\n",
    "    \n",
    "    painting_surface_tuple_list = []\n",
    "    for room in job.rooms:\n",
    "        for painting_surface in room.painting_surfaces:\n",
    "            \n",
    "            new_name = (painting_surface.surface.name + ' ' + room.name)\n",
    "            total_price = painting_surface.get_total_price()\n",
    "            unit_area_price = total_price / painting_surface.surface.area\n",
    "            \n",
    "            painting_surface_tuple_list.append((new_name, total_price, unit_area_price))\n",
    "            \n",
    "    sorted(painting_surface_tuple_list, key=lambda x: x[2])\n",
    "    print(painting_surface_tuple_list[0])        \n",
    "   \n",
    "    \n",
    "    "
   ]
  },
  {
   "cell_type": "code",
   "execution_count": null,
   "metadata": {},
   "outputs": [],
   "source": [
    "res = 'Downloadable Quote\\n Number of Rooms\\n Room Totals:\\n Labour:\\n Materials:\\n total:\\n total + VAT (if applicable)\\n'\n",
    "\n",
    "#FILE\n",
    "filename = 'quote.txt'\n",
    "b64 = base64.b64encode(res.encode())\n",
    "payload = b64.decode()\n",
    "\n",
    "#BUTTONS\n",
    "html_buttons = '''<html>\n",
    "<head>\n",
    "<meta name=\"viewport\" content=\"width=device-width, initial-scale=1\">\n",
    "</head>\n",
    "<body>\n",
    "<a download=\"{filename}\" href=\"data:text/csv;base64,{payload}\" download>\n",
    "<button class=\"p-Widget jupyter-widgets jupyter-button widget-button mod-warning\">Download File</button>\n",
    "</a>\n",
    "</body>\n",
    "</html>\n",
    "'''\n",
    "\n",
    "html_button = html_buttons.format(payload=payload,filename=filename)\n",
    "display(HTML(html_button))"
   ]
  },
  {
   "cell_type": "code",
   "execution_count": null,
   "metadata": {},
   "outputs": [],
   "source": []
  },
  {
   "cell_type": "code",
   "execution_count": null,
   "metadata": {},
   "outputs": [],
   "source": [
    "\n",
    "w.BoundedFloatText(\n",
    "    value=7.5,\n",
    "    min=0,\n",
    "    max=10.0,\n",
    "    step=0.1,\n",
    "    description='Text:',\n",
    "    disabled=False\n",
    ")"
   ]
  },
  {
   "cell_type": "code",
   "execution_count": null,
   "metadata": {},
   "outputs": [],
   "source": [
    "w.Label(value='hello')"
   ]
  },
  {
   "cell_type": "code",
   "execution_count": null,
   "metadata": {},
   "outputs": [],
   "source": [
    "outF = open(\"myOutFile.txt\", \"w\")"
   ]
  },
  {
   "cell_type": "code",
   "execution_count": null,
   "metadata": {},
   "outputs": [],
   "source": [
    "class Surface():\n",
    "    def __init__(self,\n",
    "            area=None,\n",
    "            length=None,\n",
    "            width=None,\n",
    "            labour_adjustment=None,\n",
    "            substrate=None,\n",
    "            design=None,\n",
    "                ):\n",
    "        "
   ]
  },
  {
   "cell_type": "code",
   "execution_count": null,
   "metadata": {},
   "outputs": [],
   "source": [
    "\n",
    "tab_contents = ['Room1', 'Room2', 'Room3', 'Room4', 'Room5']\n",
    "children = [w.Text(description=name) for name in tab_contents]\n",
    "tab = w.Tab()\n",
    "tab.children = children\n",
    "for i in range(len(children)):\n",
    "    tab.set_title(title=tab_contents[i], index=i)\n",
    "tab"
   ]
  },
  {
   "cell_type": "code",
   "execution_count": null,
   "metadata": {},
   "outputs": [],
   "source": [
    "condition = core.ConditionAssumptions()\n",
    "\n",
    "condition.get_condition_assumption('poor')"
   ]
  },
  {
   "cell_type": "code",
   "execution_count": null,
   "metadata": {},
   "outputs": [],
   "source": [
    "from IPython.core.display import Image, display\n",
    "display(Image('poor_example.jpg', width=100, unconfined=True))"
   ]
  },
  {
   "cell_type": "code",
   "execution_count": null,
   "metadata": {},
   "outputs": [],
   "source": [
    "\n",
    "            \n",
    "            "
   ]
  },
  {
   "cell_type": "code",
   "execution_count": null,
   "metadata": {},
   "outputs": [],
   "source": [
    "box = w.VBox()\n",
    "new_box = w.VBox([box])\n",
    "super_box = w.VBox([new_box])\n",
    "\n",
    "display(super_box)"
   ]
  },
  {
   "cell_type": "code",
   "execution_count": null,
   "metadata": {},
   "outputs": [],
   "source": [
    "d = {'a': [1,2,3]}"
   ]
  },
  {
   "cell_type": "code",
   "execution_count": null,
   "metadata": {},
   "outputs": [],
   "source": [
    "list(d.keys())"
   ]
  },
  {
   "cell_type": "code",
   "execution_count": 4,
   "metadata": {},
   "outputs": [],
   "source": [
    "condition_list = ['poor']"
   ]
  },
  {
   "cell_type": "code",
   "execution_count": 5,
   "metadata": {},
   "outputs": [
    {
     "name": "stdout",
     "output_type": "stream",
     "text": [
      "[462.77, [18, 1], [212, 251], [1], 211.87, 250.9, 18, 1]\n"
     ]
    }
   ],
   "source": [
    "print([test_core.job_2.get_total_price(),\n",
    "test_core.job_2.get_room_surface_area_by_condition_list(test_core.job_2.get_sorted_room_list(), condition_list),\n",
    "test_core.job_2.get_room_price_list(test_core.job_2.get_sorted_room_list()),       \n",
    "knapsack.optimal_knapsack(400, test_core.job_2.get_room_surface_area_by_condition_list(\n",
    "    test_core.job_2.get_sorted_room_list(), condition_list), \n",
    "                          test_core.job_2.get_room_price_list(test_core.job_2.get_sorted_room_list())),\n",
    "test_core.room_3.get_total_price(),\n",
    "test_core.room_4.get_total_price(),\n",
    "test_core.room_3.get_total_surface_area_by_condition(['poor']), test_core.room_4.get_total_surface_area_by_condition(['poor'])])"
   ]
  },
  {
   "cell_type": "code",
   "execution_count": 44,
   "metadata": {},
   "outputs": [
    {
     "data": {
      "text/plain": [
       "[1]"
      ]
     },
     "execution_count": 44,
     "metadata": {},
     "output_type": "execute_result"
    }
   ],
   "source": [
    "knapsack.optimal_knapsack(400, values=[765, 1, 671, 10], costs=[212, 251, 260, 400])"
   ]
  },
  {
   "cell_type": "code",
   "execution_count": 31,
   "metadata": {},
   "outputs": [
    {
     "data": {
      "text/plain": [
       "2.580769230769231"
      ]
     },
     "execution_count": 31,
     "metadata": {},
     "output_type": "execute_result"
    }
   ],
   "source": [
    "671/260"
   ]
  },
  {
   "cell_type": "code",
   "execution_count": 187,
   "metadata": {},
   "outputs": [],
   "source": [
    "SUBSTRATE_INPUT_TO_SUBSTRATE_CLASS_DICT = {\n",
    "    'Pre-Painted Emulsion': core.PrePaintedEmulsion,\n",
    "    'Bare Plaster': core.Plaster,\n",
    "    'New Lining-Paper': core.NewLiningPaper,\n",
    "    'Pre-Painted Wood': core.PrePaintedWood,\n",
    "    'Bare Wood': core.NewWood,\n",
    "    'Mdf': core.Mdf,\n",
    "    'Custom Substrate': core.Substrate,\n",
    "}\n",
    "\n",
    "INPUT_SURFACE_TO_SURFACE_CLASS_DICT = {\n",
    "    'Ceiling': core.Ceiling,\n",
    "    'Door': core.Door,\n",
    "    'Doorframe': core.Doorframe,\n",
    "    'Skirting Board': core.Skirtingboard,\n",
    "    'Elaborate Cornice': core.ElaborateCornice,\n",
    "    'Window': core.Window,\n",
    "    'Windowsill': core.Windowsill,\n",
    "    'Spindle': core.Spindle,\n",
    "    'Radiator': core.Radiator,\n",
    "    'Wall': core.Wall,\n",
    "}\n",
    "\n"
   ]
  },
  {
   "cell_type": "code",
   "execution_count": 188,
   "metadata": {},
   "outputs": [],
   "source": [
    "input_condition_option = widgets.Dropdown(\n",
    "    options=['poor', 'okay', 'good'],\n",
    "    value='good',\n",
    "    description='Condition:',\n",
    "    disabled=False,\n",
    ")\n",
    "\n",
    "input_substrate_choice = widgets.ToggleButtons(\n",
    "    options=['Pre-Painted Emulsion', 'Bare Plaster', 'New Lining-Paper', 'Pre-Painted Wood', 'Bare Wood', 'Mdf',\\\n",
    "             'Custom Substrate'],\n",
    "    description='Substrate:',\n",
    "    disabled=False,    \n",
    "    tooltips=['any substrate which is already coated in emulsion', 'Newly plastered surface', 'Lining paper with no coating', \\\n",
    "             'Wood which has already been painted with an oil paint', 'Bare wood with no coating', \\\n",
    "              'medium density fibre board, primed or un-primed'],\n",
    "    value ='Pre-Painted Emulsion' ,\n",
    ")\n",
    "\n",
    "\n",
    "input_num_coats = widgets.BoundedIntText(\n",
    "    value=1,\n",
    "    min=1,\n",
    "    max=3,\n",
    "    step=1,\n",
    "    description='# Coats',\n",
    "    disabled=True,\n",
    ")\n",
    "\n",
    "input_coverage_adjustment = widgets.BoundedFloatText(\n",
    "    value=1.0,\n",
    "    min=1.0,\n",
    "    max=10.0,\n",
    "    step=0.1,\n",
    "    description='Coveradjust',\n",
    "    disabled=True,\n",
    ")\n",
    "\n",
    "input_substrate_info = widgets.HBox([input_num_coats, input_coverage_adjustment])\n",
    "\n",
    "\n",
    "input_substrate_info_accordion = widgets.Accordion(children=[input_substrate_info], selected_index=None)\n",
    "input_substrate_info_accordion.set_title(0, \"Substrate Details...\")"
   ]
  },
  {
   "cell_type": "code",
   "execution_count": 189,
   "metadata": {},
   "outputs": [],
   "source": [
    "input_surface_area = widgets.BoundedFloatText(\n",
    "    value=10,\n",
    "    min=0,\n",
    "    max=1000.0,\n",
    "    step=1.0,\n",
    "    description='msq:',\n",
    "    disabled=False,\n",
    "    \n",
    ")\n",
    "\n",
    "input_surface = widgets.Dropdown(\n",
    "    options=['Wall', 'Ceiling', 'Door', 'Doorframe', 'Skirting Board', 'Elaborate Cornice', 'Window', 'Windowsill',\n",
    "             'Spindle', 'Radiator'],\n",
    "    value='Wall',\n",
    "    description='Surface:',\n",
    "    disabled=False,\n",
    ")\n",
    "\n",
    "design_options = widgets.Dropdown(\n",
    "    options=[''],\n",
    "    value='',\n",
    "    description='Design:',\n",
    "    disabled=False,\n",
    "    \n",
    ")\n",
    "\n",
    "design_options.layout.visibility = 'hidden'\n",
    "\n",
    "num_panes_select = widgets.BoundedIntText(\n",
    "    value=1,\n",
    "    min=1,\n",
    "    max=100,\n",
    "    step=1,\n",
    "    description='# Panes:',\n",
    "    disabled=False,\n",
    ")\n",
    "num_panes_select.layout.visibility = 'hidden'"
   ]
  },
  {
   "cell_type": "code",
   "execution_count": 190,
   "metadata": {},
   "outputs": [],
   "source": [
    "def design_options_callback(change):\n",
    "    if change['new']: \n",
    "        design_options.layout.visibility = 'hidden'   \n",
    "        if input_surface.value == 'Ceiling':            \n",
    "            num_panes_select.layout.visibility = 'hidden'\n",
    "        elif input_surface.value == 'Door':            \n",
    "            design_options.layout.visibility = 'visible'       \n",
    "            design_options.options = ['Flat door', 'Panelled', 'Cutting in']\n",
    "        elif input_surface.value == 'Doorframe':            \n",
    "            design_options.layout.visibility = 'visible'\n",
    "            design_options.options = ['Standard', 'Victorian', 'Elaborate']\n",
    "            num_panes_select.layout.visibility = 'hidden'\n",
    "        elif input_surface.value == 'Skirting Board':            \n",
    "            num_panes_select.layout.visibility = 'hidden'\n",
    "        elif input_surface.value == 'Elaborate Cornice':            \n",
    "            num_panes_select.layout.visibility = 'hidden'\n",
    "        elif input_surface.value == 'Window':                 \n",
    "            num_panes_select.layout.visibility = 'visible'\n",
    "        elif input_surface.value == 'Windowsill':            \n",
    "            num_panes_select.layout.visibility = 'hidden'\n",
    "        elif input_surface.value == 'Spindle':            \n",
    "            design_options.layout.visibility = 'visible'\n",
    "            design_options.options = ['Square', 'Shaped', 'Elaborate']\n",
    "            num_panes_select.layout.visibility = 'hidden'\n",
    "        elif input_surface.value == 'Radiator':           \n",
    "            num_panes_select.layout.visibility = 'hidden'\n",
    "        else:            \n",
    "            num_panes_select.layout.visibility = 'hidden'  \n",
    "            \n",
    "            \n",
    "def num_panes_select_callback(change):\n",
    "    if change['new'] == 'Cutting in':\n",
    "        num_panes_select.layout.visibility = 'visible'\n",
    "    else:\n",
    "        num_panes_select.layout.visibility = 'hidden' "
   ]
  },
  {
   "cell_type": "code",
   "execution_count": 191,
   "metadata": {},
   "outputs": [],
   "source": [
    "input_surface.observe(design_options_callback, 'value')\n",
    "design_options.observe(num_panes_select_callback, 'value')"
   ]
  },
  {
   "cell_type": "code",
   "execution_count": 199,
   "metadata": {},
   "outputs": [],
   "source": [
    "input_paint_finish_choice = widgets.ToggleButtons(\n",
    "    options=['Emulsion Paint', 'Oil Paint', 'Custom Input'],\n",
    "    description='Paint Type:',\n",
    "    disabled=False,    \n",
    "    tooltips=['Water Based Emulsion', 'Solvent Based Paint', 'Input custom Paint Parameters'],\n",
    "    value = None\n",
    "    \n",
    "        \n",
    ")\n",
    "\n",
    "\n",
    "input_paint_price = widgets.BoundedFloatText(\n",
    "    value=30,\n",
    "    min=0,\n",
    "    max=1000.0,\n",
    "    step=1.0,\n",
    "    description='£:',\n",
    "    disabled=False,\n",
    ")\n",
    "\n",
    "input_paint_unit = widgets.BoundedFloatText(\n",
    "    value=5,\n",
    "    min=0,\n",
    "    max=10.0,\n",
    "    step=1.0,\n",
    "    description='Litres:',\n",
    "    disabled=False,\n",
    ")\n",
    "\n",
    "input_paint_coverage = widgets.BoundedFloatText(\n",
    "    value=17,\n",
    "    min=0,\n",
    "    max=100.0,\n",
    "    step=1.0,\n",
    "    description='Coverage:',\n",
    "    disabled=False,\n",
    ")\n",
    "\n",
    "\n",
    "input_paint_info = widgets.HBox([input_paint_price, input_paint_unit, input_paint_coverage])\n",
    "\n",
    "input_paint_info_accordion = widgets.Accordion(children=[input_paint_info], selected_index=None,)\n",
    "input_paint_info_accordion.set_title(0, \"Paint Information...\")\n",
    "input_paint_info_accordion.layout.visibility = 'visible'\n",
    "\n",
    "paint_choices = widgets.Dropdown(\n",
    "    options=['Vinyl Matt Emulsion', 'Diamond Matt Emulsion', 'Silk Emulsion'],\n",
    "    value='Vinyl Matt Emulsion',\n",
    "    description='Finish:',\n",
    "    disabled=False,\n",
    ")\n",
    "\n",
    "# def togglebutton_callback(change):\n",
    "#     if change['new'] == 'Emulsion Paint':\n",
    "#         paint_choices.layout.visibility = 'visible'\n",
    "#         paint_choices.options = ['Vinyl Matt Emulsion', 'Diamond Matt Emulsion', 'Silk Emulsion']\n",
    "        \n",
    "#         input_paint_price.value = vinyl_matt_emulsion.price\n",
    "#         input_paint_price.disabled = True\n",
    "#         input_paint_unit.value = vinyl_matt_emulsion.unit\n",
    "#         input_paint_unit.disabled = True\n",
    "#         input_paint_coverage.value = vinyl_matt_emulsion.coverage\n",
    "#         input_paint_coverage.disabled = True\n",
    "               \n",
    "#     elif change['new'] == 'Oil Paint':\n",
    "#         paint_choices.layout.visibility = 'visible'\n",
    "#         paint_choices.options = ['Eggshell', 'Gloss', 'Satinwood']\n",
    "        \n",
    "#         input_paint_price.value = oil_eggshell.price\n",
    "#         input_paint_price.disabled = True\n",
    "#         input_paint_unit.value = oil_eggshell.unit\n",
    "#         input_paint_unit.disabled = True\n",
    "#         input_paint_coverage.value = 50\n",
    "#         input_paint_coverage.disabled = True\n",
    "        \n",
    "#     else:\n",
    "#         paint_choices.layout.visibility = 'hidden'      #options = ['custom']\n",
    "#         input_paint_price.value = 30\n",
    "#         input_paint_price.disabled = False\n",
    "#         input_paint_coverage.disabled = False\n",
    "#         input_paint_unit.disabled = False\n",
    "#         input_paint_coverage.value = 50\n",
    "        \n",
    "    "
   ]
  },
  {
   "cell_type": "code",
   "execution_count": 200,
   "metadata": {},
   "outputs": [],
   "source": [
    "input_paint_finish_choice.observe(togglebutton_callback, 'value')"
   ]
  },
  {
   "cell_type": "code",
   "execution_count": 201,
   "metadata": {},
   "outputs": [],
   "source": [
    "def calculate_button_callback(*args, **kwargs):\n",
    "    paint_price = input_paint_price.value\n",
    "    paint_unit = input_paint_unit.value\n",
    "    paint_coverage = input_paint_coverage.value\n",
    "    \n",
    "    if design_options.layout.visibility == 'visible':\n",
    "        design = design_options.value\n",
    "    else:\n",
    "        design = None\n",
    "        \n",
    "    if num_panes_select.layout.visibility == 'visible':\n",
    "        num_panes = num_panes_select.value\n",
    "    else:\n",
    "        num_panes = None\n",
    "    \n",
    "    condition = input_condition_option.value\n",
    "    substrate_type = input_substrate_choice.value\n",
    "    substrate_class = SUBSTRATE_INPUT_TO_SUBSTRATE_CLASS_DICT[substrate_type]\n",
    "    \n",
    "    surface_type = input_surface.value\n",
    "    surface_class = INPUT_SURFACE_TO_SURFACE_CLASS_DICT[surface_type]   \n",
    "    surface = surface_class(input_surface_area.value, substrate=substrate_class(condition=condition), design=design,\n",
    "                           num_panes=num_panes)\n",
    "    \n",
    "    paint = core.Paint(paint_price, paint_unit, paint_coverage)\n",
    "    estimate = core.PaintingSurface(surface, paint).get_total_price()\n",
    "    print(estimate)\n",
    "    \n",
    " "
   ]
  },
  {
   "cell_type": "code",
   "execution_count": 202,
   "metadata": {},
   "outputs": [],
   "source": [
    "calculate_button = widgets.Button(\n",
    "    description='Estimate Job',\n",
    "    disabled=False,   \n",
    "    tooltip='Calculate',\n",
    "    icon='check'\n",
    "    \n",
    "    \n",
    ")\n",
    "calculate_button.style.button_color='palegreen'\n",
    "\n",
    "calculate_button.on_click(calculate_button_callback)\n"
   ]
  },
  {
   "cell_type": "code",
   "execution_count": 205,
   "metadata": {},
   "outputs": [
    {
     "data": {
      "application/vnd.jupyter.widget-view+json": {
       "model_id": "92bbff3c2f0e48a0a6e733067e101bd7",
       "version_major": 2,
       "version_minor": 0
      },
      "text/plain": [
       "VBox(children=(BoundedFloatText(value=10.0, description='msq:', max=1000.0, step=1.0), Dropdown(description='S…"
      ]
     },
     "metadata": {},
     "output_type": "display_data"
    },
    {
     "data": {
      "application/vnd.jupyter.widget-view+json": {
       "model_id": "b492f552cd4d4824821bedd8ad79b15d",
       "version_major": 2,
       "version_minor": 0
      },
      "text/plain": [
       "VBox(children=(Button(description='Estimate Job', icon='check', style=ButtonStyle(button_color='palegreen'), t…"
      ]
     },
     "metadata": {},
     "output_type": "display_data"
    }
   ],
   "source": [
    "surface_form = widgets.VBox([input_surface_area, input_surface, design_options, num_panes_select, input_substrate_choice,  input_condition_option, input_substrate_info_accordion, input_paint_finish_choice, \n",
    "                             paint_choices, input_paint_info_accordion])\n",
    "calculate_form = widgets.VBox([calculate_button])\n",
    "\n",
    "display(surface_form, calculate_form)"
   ]
  },
  {
   "cell_type": "code",
   "execution_count": null,
   "metadata": {},
   "outputs": [],
   "source": []
  },
  {
   "cell_type": "code",
   "execution_count": null,
   "metadata": {},
   "outputs": [],
   "source": []
  }
 ],
 "metadata": {
  "kernelspec": {
   "display_name": "Python 3",
   "language": "python",
   "name": "python3"
  },
  "language_info": {
   "codemirror_mode": {
    "name": "ipython",
    "version": 3
   },
   "file_extension": ".py",
   "mimetype": "text/x-python",
   "name": "python",
   "nbconvert_exporter": "python",
   "pygments_lexer": "ipython3",
   "version": "3.8.5"
  }
 },
 "nbformat": 4,
 "nbformat_minor": 4
}
