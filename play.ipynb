{
 "cells": [
  {
   "cell_type": "code",
   "execution_count": 1,
   "metadata": {},
   "outputs": [],
   "source": [
    "import importlib\n",
    "import core\n",
    "import paint_link\n",
    "_=importlib.reload(core)\n",
    "import ipywidgets as w\n",
    "import base64\n",
    "from IPython.display import display\n",
    "from ipywidgets import HTML\n",
    "import math\n",
    "import random\n",
    "import knapsack\n",
    "_=importlib.reload(knapsack)"
   ]
  },
  {
   "cell_type": "markdown",
   "metadata": {},
   "source": [
    "## RemoteQuote\n"
   ]
  },
  {
   "cell_type": "code",
   "execution_count": 2,
   "metadata": {},
   "outputs": [
    {
     "ename": "TypeError",
     "evalue": "'builtin_function_or_method' object is not iterable",
     "output_type": "error",
     "traceback": [
      "\u001b[1;31m---------------------------------------------------------------------------\u001b[0m",
      "\u001b[1;31mTypeError\u001b[0m                                 Traceback (most recent call last)",
      "\u001b[1;32m<ipython-input-2-8e081dde31fb>\u001b[0m in \u001b[0;36m<module>\u001b[1;34m\u001b[0m\n\u001b[1;32m----> 1\u001b[1;33m \u001b[0mlist\u001b[0m\u001b[1;33m(\u001b[0m\u001b[1;33m{\u001b[0m\u001b[1;34m'a'\u001b[0m\u001b[1;33m:\u001b[0m \u001b[1;33m[\u001b[0m\u001b[1;36m1\u001b[0m\u001b[1;33m,\u001b[0m \u001b[1;36m2\u001b[0m\u001b[1;33m,\u001b[0m \u001b[1;36m3\u001b[0m\u001b[1;33m]\u001b[0m\u001b[1;33m}\u001b[0m\u001b[1;33m.\u001b[0m\u001b[0mvalues\u001b[0m\u001b[1;33m)\u001b[0m\u001b[1;33m\u001b[0m\u001b[1;33m\u001b[0m\u001b[0m\n\u001b[0m",
      "\u001b[1;31mTypeError\u001b[0m: 'builtin_function_or_method' object is not iterable"
     ]
    }
   ],
   "source": [
    "list({'a': [1, 2, 3]}.values)"
   ]
  },
  {
   "cell_type": "code",
   "execution_count": null,
   "metadata": {},
   "outputs": [],
   "source": []
  },
  {
   "cell_type": "code",
   "execution_count": null,
   "metadata": {},
   "outputs": [],
   "source": [
    "#example painting surface inputs\n",
    "\n",
    "room_test_painting_surface = core.PaintingSurface(core.Wall(8), core.Paint(30, 5, 17))\n",
    "room_test_painting_surface_2 = core.PaintingSurface(core.Wall(10), paint_link.MattEmulsionPaint())\n",
    "room_test_painting_surface_3 = core.PaintingSurface(core.Wall(20, substrate=core.Plaster()), paint_link.DiamondMattEmulsion())\n",
    "room_test_painting_surface_4 = core.PaintingSurface(core.Skirtingboard(1, substrate=core.Mdf(primed=True)), paint_link.OilEggshell())"
   ]
  },
  {
   "cell_type": "code",
   "execution_count": null,
   "metadata": {},
   "outputs": [],
   "source": [
    "#example room inputs \n",
    "\n",
    "room_1 = core.Room([room_test_painting_surface, room_test_painting_surface_2], name='room_1')\n",
    "room_2 = core.Room([room_test_painting_surface_3, room_test_painting_surface_4], name = 'room_2')\n",
    "\n"
   ]
  },
  {
   "cell_type": "code",
   "execution_count": null,
   "metadata": {},
   "outputs": [],
   "source": [
    "#example job input\n",
    "\n",
    "job_1= core.Job([room_1, room_2])\n",
    "\n",
    "\n",
    "job_1.get_breakdown()\n",
    "job_1.get_total_price()"
   ]
  },
  {
   "cell_type": "code",
   "execution_count": null,
   "metadata": {},
   "outputs": [],
   "source": [
    "surface_list = job_1.get_painting_surface_list()\n",
    "value, costs = job_1.get_area_cost_lists(surface_list)\n",
    "optimal_index_list = knapsack.optimal_knapsack(300, value, costs)\n",
    "optimal_surface_list = [surface_list[i] for i in optimal_index_list]"
   ]
  },
  {
   "cell_type": "code",
   "execution_count": null,
   "metadata": {},
   "outputs": [],
   "source": [
    "optimised_job = job_1.get_optimised_job(300)\n",
    "optimised_job.get_summary()"
   ]
  },
  {
   "cell_type": "code",
   "execution_count": null,
   "metadata": {},
   "outputs": [],
   "source": [
    "# optimal_surface_list = []\n",
    "# for x in optimal_list:\n",
    "    \n",
    "#     optimal_surface_list.append(surface_list[x])\n",
    "    "
   ]
  },
  {
   "cell_type": "code",
   "execution_count": null,
   "metadata": {},
   "outputs": [],
   "source": [
    "optimal_surface_list[0].surface.name"
   ]
  },
  {
   "cell_type": "code",
   "execution_count": null,
   "metadata": {},
   "outputs": [],
   "source": [
    "new_room = core.Room(optimal_surface_list, name='')\n",
    "new_room.get_breakdown()"
   ]
  },
  {
   "cell_type": "code",
   "execution_count": null,
   "metadata": {},
   "outputs": [],
   "source": [
    "\n",
    "\n",
    "# def get_area_cost_lists(painting_surface_list):\n",
    "       \n",
    "#     surface_area_list = []\n",
    "#     painting_price_list = []\n",
    "    \n",
    "#     # creating value and cost lists for knapsack\n",
    "#     for painting_surface in painting_surface_list:\n",
    "#         surface_area_list.append(painting_surface.surface.area)\n",
    "#         painting_price_list.append(math.ceil(painting_surface.get_total_price()))\n",
    "        \n",
    "#     return surface_area_list, painting_price_list\n",
    "    "
   ]
  },
  {
   "cell_type": "code",
   "execution_count": null,
   "metadata": {},
   "outputs": [],
   "source": [
    "#value, costs = prepare_surface_list(painting_surface_list)\n",
    "\n",
    "\n",
    "value, costs = get_area_cost_lists(job_1.get_painting_surface_list())\n",
    "\n",
    "\n",
    "\n",
    "\n",
    "\n",
    "print(value, costs)\n"
   ]
  },
  {
   "cell_type": "code",
   "execution_count": null,
   "metadata": {},
   "outputs": [],
   "source": [
    "def optimal_knapsack(capacity, values, costs):          \n",
    "    # initialising matrix k\n",
    "    k = []\n",
    "    list_budget_size = range(capacity + 1)\n",
    "    m = range(len(list_budget_size))\n",
    "    n = range(len(costs))\n",
    "    \n",
    "    for i in n:\n",
    "        l = []\n",
    "        for j in m:\n",
    "            l.append(-1)    \n",
    "        k.append(l)    \n",
    "        \n",
    "    # filling in matrix k        \n",
    "    for i in n:\n",
    "        for w in m:\n",
    "            if i == 0 or w == 0:\n",
    "                k[i][w] = 0\n",
    "            elif costs[i] <= w:\n",
    "                k[i][w] = max((values[i] + k[i-1][w-costs[i]]), (k[i-1][w]))  \n",
    "            else:\n",
    "                k[i][w] = k[i-1][w]\n",
    "                \n",
    "    # backtrack through matrix k to find included elements        \n",
    "    i = len(k) - 1\n",
    "    j = len(k[0]) - 1\n",
    "    included_items = []\n",
    "\n",
    "    while i > 0 and j > 0:        \n",
    "        if k[i][j] != k[i-1][j]:\n",
    "            included_items.append(i)\n",
    "            j = j-costs[i] \n",
    "        i = i-1\n",
    "        \n",
    "    return included_items\n",
    "    print(k)\n",
    "\n",
    "    "
   ]
  },
  {
   "cell_type": "code",
   "execution_count": null,
   "metadata": {},
   "outputs": [],
   "source": [
    "optimal_knapsack(8, [1,2,5,6], [2,3,4,5])"
   ]
  },
  {
   "cell_type": "code",
   "execution_count": null,
   "metadata": {},
   "outputs": [],
   "source": [
    "#optimal_knapsack(300, value, costs)\n",
    "random_values = [random.randint(1, 100) for iter in range(20)]\n",
    "random_costs = [random.randint(1, 500) for iter in range(20)]\n",
    "\n",
    "\n",
    "optimal_knapsack(300, value, costs)"
   ]
  },
  {
   "cell_type": "code",
   "execution_count": null,
   "metadata": {},
   "outputs": [],
   "source": [
    "\n",
    "\n",
    "%%time\n",
    "optimal_knapsack(3000, random_values, random_costs)"
   ]
  },
  {
   "cell_type": "code",
   "execution_count": null,
   "metadata": {},
   "outputs": [],
   "source": [
    "wt = [0, 2, 5, 7, 9, 12, 15]\n",
    "p = [0, 10, 2, 15, 7, 20, 14]\n",
    "\n",
    "\n",
    "capacity = 27\n",
    "\n",
    "ws = range(capacity + 1)\n",
    "\n",
    "\n",
    "\n",
    "n = range(len(wt))\n",
    "m = range(len(ws))"
   ]
  },
  {
   "cell_type": "code",
   "execution_count": null,
   "metadata": {},
   "outputs": [],
   "source": [
    "k = []\n",
    "\n",
    "for i in n:\n",
    "    l = []\n",
    "    for j in m:\n",
    "        l.append(-1)\n",
    "#         print(f'{i}, {j}: l={l}')\n",
    "    \n",
    "    k.append(l)\n",
    "#     print(f'{i}: k={k}')"
   ]
  },
  {
   "cell_type": "code",
   "execution_count": null,
   "metadata": {},
   "outputs": [],
   "source": []
  },
  {
   "cell_type": "code",
   "execution_count": null,
   "metadata": {},
   "outputs": [],
   "source": [
    "for i in n:\n",
    "    for w in m:\n",
    "        if i == 0 or w == 0:\n",
    "            k[i][w] = 0\n",
    "        elif wt[i] <= w:\n",
    "            k[i][w] = max((p[i] + k[i-1][w-wt[i]]), (k[i-1][w]))  \n",
    "        else:\n",
    "            k[i][w] = k[i-1][w]\n",
    "            "
   ]
  },
  {
   "cell_type": "code",
   "execution_count": null,
   "metadata": {},
   "outputs": [],
   "source": [
    "k"
   ]
  },
  {
   "cell_type": "code",
   "execution_count": null,
   "metadata": {
    "scrolled": true
   },
   "outputs": [],
   "source": [
    "i = len(k) - 1\n",
    "j = len(k[0]) - 1\n",
    "\n",
    "included_items = []\n",
    "\n",
    "while i > 0 and j > 0:\n",
    "    \n",
    "        \n",
    "        print(f'i={i}')\n",
    "        print(f'j={j}')\n",
    "        print(k[i][j])\n",
    "        print(k[i-1][j])\n",
    "            \n",
    "        if k[i][j] == k[i-1][j]:\n",
    "            \n",
    "            print(wt[i], '= 0') \n",
    "            \n",
    "            \n",
    "        elif k[i][j] != k[i-1][j]:\n",
    "            \n",
    "            print(wt[i], '= 1')\n",
    "            included_items.append(f'{wt[i]} = 1, {i} in list wt. Profit = {p[i]}')\n",
    "            j = j-wt[i] \n",
    "            \n",
    "        \n",
    "        i = i-1"
   ]
  },
  {
   "cell_type": "code",
   "execution_count": null,
   "metadata": {},
   "outputs": [],
   "source": [
    "print(included_items)"
   ]
  },
  {
   "cell_type": "code",
   "execution_count": null,
   "metadata": {},
   "outputs": [],
   "source": [
    "def optimal_knapsack(capacity, values, costs):\n",
    "    \n",
    "    list_budget_size = range(capacity + 1)\n",
    "    \n",
    "    m = range(len(list_budget_size))\n",
    "    n = range(len(costs))\n",
    "    \n",
    "    k = []\n",
    "\n",
    "    for i in n:\n",
    "        l = []\n",
    "        for j in m:\n",
    "            l.append(-1)\n",
    "    \n",
    "        k.append(l)\n",
    "        \n",
    "    print(k)\n",
    "        \n",
    "    for i in n:\n",
    "        for w in m:\n",
    "            if i == 0 or w == 0:\n",
    "                k[i][w] = 0\n",
    "            elif costs[i] <= w:\n",
    "                k[i][w] = max((values[i] + k[i-1][w-costs[i]]), (k[i-1][w]))  \n",
    "            else:\n",
    "                k[i][w] = k[i-1][w]\n",
    "            \n",
    "    i = len(k) - 1\n",
    "    j = len(k[0]) - 1\n",
    "\n",
    "    included_items = []\n",
    "\n",
    "    while i > 0 and j > 0:\n",
    "\n",
    "\n",
    "#             print(f'i={i}')\n",
    "#             print(f'j={j}')\n",
    "#             print(k[i][j])\n",
    "#             print(k[i-1][j])\n",
    "\n",
    "            if k[i][j] == k[i-1][j]:\n",
    "\n",
    "                #print(costs[i], '= 0') \n",
    "\n",
    "\n",
    "            elif k[i][j] != k[i-1][j]:\n",
    "\n",
    "                print(costs[i], '= 1')\n",
    "                included_items.append(i)\n",
    "                j = j-costs[i] \n",
    "\n",
    "\n",
    "            i = i-1\n",
    "    return included_items\n",
    "\n",
    "    "
   ]
  },
  {
   "cell_type": "code",
   "execution_count": null,
   "metadata": {},
   "outputs": [],
   "source": []
  },
  {
   "cell_type": "code",
   "execution_count": null,
   "metadata": {},
   "outputs": [],
   "source": [
    "# def get_optimal_budget(job, max_money):\n",
    "    \n",
    "#     unit_area_price_list = []\n",
    "#     for room in job.rooms:\n",
    "#         for painting_surface in room.painting_surfaces:\n",
    "#             price = painting_surface.get_total_price()\n",
    "#             surface_area = painting_surface.surface.area\n",
    "#             unit_area_price = price / surface_area\n",
    "#             unit_area_price_list.append(unit_area_price)\n",
    "            \n",
    "#     unit_area_price_list.sort()\n",
    "#     return unit_area_price_list[0]\n",
    "\n",
    "\n",
    "def get_optimal_surface(job):\n",
    "    \n",
    "    painting_surface_tuple_list = []\n",
    "    for room in job.rooms:\n",
    "        for painting_surface in room.painting_surfaces:\n",
    "            \n",
    "            new_name = (painting_surface.surface.name + ' ' + room.name)\n",
    "            total_price = painting_surface.get_total_price()\n",
    "            unit_area_price = total_price / painting_surface.surface.area\n",
    "            \n",
    "            painting_surface_tuple_list.append((new_name, total_price, unit_area_price))\n",
    "            \n",
    "    sorted(painting_surface_tuple_list, key=lambda x: x[2])\n",
    "    print(painting_surface_tuple_list[0])        \n",
    "   \n",
    "    \n",
    "    "
   ]
  },
  {
   "cell_type": "code",
   "execution_count": null,
   "metadata": {},
   "outputs": [],
   "source": [
    "res = 'Downloadable Quote\\n Number of Rooms\\n Room Totals:\\n Labour:\\n Materials:\\n total:\\n total + VAT (if applicable)\\n'\n",
    "\n",
    "#FILE\n",
    "filename = 'quote.txt'\n",
    "b64 = base64.b64encode(res.encode())\n",
    "payload = b64.decode()\n",
    "\n",
    "#BUTTONS\n",
    "html_buttons = '''<html>\n",
    "<head>\n",
    "<meta name=\"viewport\" content=\"width=device-width, initial-scale=1\">\n",
    "</head>\n",
    "<body>\n",
    "<a download=\"{filename}\" href=\"data:text/csv;base64,{payload}\" download>\n",
    "<button class=\"p-Widget jupyter-widgets jupyter-button widget-button mod-warning\">Download File</button>\n",
    "</a>\n",
    "</body>\n",
    "</html>\n",
    "'''\n",
    "\n",
    "html_button = html_buttons.format(payload=payload,filename=filename)\n",
    "display(HTML(html_button))"
   ]
  },
  {
   "cell_type": "code",
   "execution_count": null,
   "metadata": {},
   "outputs": [],
   "source": []
  },
  {
   "cell_type": "code",
   "execution_count": null,
   "metadata": {},
   "outputs": [],
   "source": [
    "\n",
    "w.BoundedFloatText(\n",
    "    value=7.5,\n",
    "    min=0,\n",
    "    max=10.0,\n",
    "    step=0.1,\n",
    "    description='Text:',\n",
    "    disabled=False\n",
    ")"
   ]
  },
  {
   "cell_type": "code",
   "execution_count": null,
   "metadata": {},
   "outputs": [],
   "source": [
    "w.Label(value='hello')"
   ]
  },
  {
   "cell_type": "code",
   "execution_count": null,
   "metadata": {},
   "outputs": [],
   "source": [
    "outF = open(\"myOutFile.txt\", \"w\")"
   ]
  },
  {
   "cell_type": "code",
   "execution_count": null,
   "metadata": {},
   "outputs": [],
   "source": [
    "class Surface():\n",
    "    def __init__(self,\n",
    "            area=None,\n",
    "            length=None,\n",
    "            width=None,\n",
    "            labour_adjustment=None,\n",
    "            substrate=None,\n",
    "            design=None,\n",
    "                ):\n",
    "        "
   ]
  },
  {
   "cell_type": "code",
   "execution_count": null,
   "metadata": {},
   "outputs": [],
   "source": [
    "\n",
    "tab_contents = ['Room1', 'Room2', 'Room3', 'Room4', 'Room5']\n",
    "children = [w.Text(description=name) for name in tab_contents]\n",
    "tab = w.Tab()\n",
    "tab.children = children\n",
    "for i in range(len(children)):\n",
    "    tab.set_title(title=tab_contents[i], index=i)\n",
    "tab"
   ]
  },
  {
   "cell_type": "code",
   "execution_count": null,
   "metadata": {},
   "outputs": [],
   "source": [
    "condition = core.ConditionAssumptions()\n",
    "\n",
    "condition.get_condition_assumption('poor')"
   ]
  },
  {
   "cell_type": "code",
   "execution_count": null,
   "metadata": {},
   "outputs": [],
   "source": [
    "from IPython.core.display import Image, display\n",
    "display(Image('poor_example.jpg', width=100, unconfined=True))"
   ]
  },
  {
   "cell_type": "code",
   "execution_count": null,
   "metadata": {},
   "outputs": [],
   "source": [
    "\n",
    "            \n",
    "            "
   ]
  },
  {
   "cell_type": "code",
   "execution_count": 6,
   "metadata": {},
   "outputs": [
    {
     "data": {
      "application/vnd.jupyter.widget-view+json": {
       "model_id": "cbc8974a363e44f2bc1fe20e55784868",
       "version_major": 2,
       "version_minor": 0
      },
      "text/plain": [
       "VBox(children=(VBox(children=(VBox(),)),))"
      ]
     },
     "metadata": {},
     "output_type": "display_data"
    }
   ],
   "source": [
    "box = w.VBox()\n",
    "new_box = w.VBox([box])\n",
    "super_box = w.VBox([new_box])\n",
    "\n",
    "display(super_box)"
   ]
  },
  {
   "cell_type": "code",
   "execution_count": 7,
   "metadata": {},
   "outputs": [],
   "source": [
    "d = {'a': [1,2,3]}"
   ]
  },
  {
   "cell_type": "code",
   "execution_count": 11,
   "metadata": {},
   "outputs": [
    {
     "data": {
      "text/plain": [
       "['a']"
      ]
     },
     "execution_count": 11,
     "metadata": {},
     "output_type": "execute_result"
    }
   ],
   "source": [
    "list(d.keys())"
   ]
  },
  {
   "cell_type": "code",
   "execution_count": null,
   "metadata": {},
   "outputs": [],
   "source": []
  }
 ],
 "metadata": {
  "kernelspec": {
   "display_name": "Python 3",
   "language": "python",
   "name": "python3"
  },
  "language_info": {
   "codemirror_mode": {
    "name": "ipython",
    "version": 3
   },
   "file_extension": ".py",
   "mimetype": "text/x-python",
   "name": "python",
   "nbconvert_exporter": "python",
   "pygments_lexer": "ipython3",
   "version": "3.8.5"
  }
 },
 "nbformat": 4,
 "nbformat_minor": 4
}
