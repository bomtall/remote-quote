{
 "cells": [
  {
   "cell_type": "code",
   "execution_count": 1,
   "metadata": {},
   "outputs": [],
   "source": [
    "import tab_structure as ts\n",
    "import ipywidgets as widgets\n",
    "import importlib\n",
    "_=importlib.reload(ts)\n",
    "import forms as form\n",
    "_=importlib.reload(form)"
   ]
  },
  {
   "cell_type": "code",
   "execution_count": 2,
   "metadata": {},
   "outputs": [
    {
     "data": {
      "application/vnd.jupyter.widget-view+json": {
       "model_id": "17cac740d83442fd9d3ace548cda70a9",
       "version_major": 2,
       "version_minor": 0
      },
      "text/plain": [
       "RemoteQuoteForm(children=(Dropdown(description='Num Rooms:', options=(1, 2, 3, 4, 5), value=1), Tab(), Calcula…"
      ]
     },
     "metadata": {},
     "output_type": "display_data"
    }
   ],
   "source": [
    "display(form.RemoteQuoteForm(ts.form_widgets_dict))"
   ]
  },
  {
   "cell_type": "code",
   "execution_count": 3,
   "metadata": {},
   "outputs": [],
   "source": [
    "# estimate_button = form.EstimateButton()\n",
    "# i.form_widgets_dict['dropdown_num_rooms'].observe(i.on_change_num_rooms)\n",
    "# display(widgets.VBox([i.form_widgets_dict['dropdown_num_rooms'], i.form_widgets_dict['tab'], estimate_button]))\n",
    "# estimate_button.on_click(estimate_button.get_estimate)"
   ]
  },
  {
   "cell_type": "code",
   "execution_count": null,
   "metadata": {},
   "outputs": [],
   "source": []
  },
  {
   "cell_type": "code",
   "execution_count": null,
   "metadata": {},
   "outputs": [],
   "source": []
  }
 ],
 "metadata": {
  "kernelspec": {
   "display_name": "Python 3",
   "language": "python",
   "name": "python3"
  },
  "language_info": {
   "codemirror_mode": {
    "name": "ipython",
    "version": 3
   },
   "file_extension": ".py",
   "mimetype": "text/x-python",
   "name": "python",
   "nbconvert_exporter": "python",
   "pygments_lexer": "ipython3",
   "version": "3.8.5"
  }
 },
 "nbformat": 4,
 "nbformat_minor": 4
}
