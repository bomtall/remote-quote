{
 "cells": [
  {
   "cell_type": "code",
   "execution_count": 28,
   "metadata": {
    "pycharm": {
     "name": "#%%\n"
    }
   },
   "outputs": [],
   "source": [
    "import ipywidgets as widgets\n",
    "import core"
   ]
  },
  {
   "cell_type": "code",
   "execution_count": 91,
   "metadata": {},
   "outputs": [],
   "source": [
    "input_surface_area = widgets.BoundedFloatText(\n",
    "    value=10,\n",
    "    min=0,\n",
    "    max=1000.0,\n",
    "    step=1.0,\n",
    "    description='msq:',\n",
    "    disabled=False\n",
    ")\n",
    "\n",
    "# display(input_surface_area)"
   ]
  },
  {
   "cell_type": "code",
   "execution_count": 119,
   "metadata": {},
   "outputs": [],
   "source": [
    "input_paint_price = widgets.BoundedFloatText(\n",
    "    value=30,\n",
    "    min=0,\n",
    "    max=1000.0,\n",
    "    step=1.0,\n",
    "    description='£:',\n",
    "    disabled=False\n",
    ")\n",
    "\n",
    "input_paint_unit = widgets.BoundedFloatText(\n",
    "    value=5,\n",
    "    min=0,\n",
    "    max=10.0,\n",
    "    step=1.0,\n",
    "    description='Litres:',\n",
    "    disabled=False\n",
    ")\n",
    "\n",
    "input_paint_coverage = widgets.BoundedFloatText(\n",
    "    value=17,\n",
    "    min=0,\n",
    "    max=100.0,\n",
    "    step=1.0,\n",
    "    description='Coverage:',\n",
    "    disabled=False\n",
    ")\n",
    "\n",
    "input_paint_info = widgets.HBox([input_paint_price, input_paint_unit, input_paint_coverage])\n",
    "\n",
    "input_paint_info_accordion = widgets.Accordion(children=[input_paint_info], selected_index=None)\n",
    "input_paint_info_accordion.set_title(0, \"Paint Information...\")"
   ]
  },
  {
   "cell_type": "code",
   "execution_count": 120,
   "metadata": {},
   "outputs": [],
   "source": [
    "def calculate_button_callback(*args, **kwargs):\n",
    "    substrate = core.Wall(input_surface_area.value)\n",
    "    applicant = core.Paint(input_paint_price.value, input_paint_unit.value, input_paint_coverage.value)\n",
    "        \n",
    "    paint_surface = core.PaintingSurface(substrate, applicant)\n",
    "    \n",
    "    output.value = str(paint_surface.get_total_price())"
   ]
  },
  {
   "cell_type": "code",
   "execution_count": 121,
   "metadata": {
    "pycharm": {
     "name": "#%%\n"
    }
   },
   "outputs": [],
   "source": [
    "calculate_button = widgets.Button(\n",
    "    description='Estimate Job',\n",
    "    disabled=False,\n",
    "    button_style='', # 'success', 'info', 'warning', 'danger' or ''\n",
    "    tooltip='Calculate',\n",
    "    icon='check' # (FontAwesome names without the `fa-` prefix)\n",
    ")\n",
    "\n",
    "calculate_button.on_click(calculate_button_callback)\n",
    "\n",
    "# display(calculate_button)"
   ]
  },
  {
   "cell_type": "code",
   "execution_count": 122,
   "metadata": {},
   "outputs": [],
   "source": [
    "output = widgets.HTML()"
   ]
  },
  {
   "cell_type": "code",
   "execution_count": 123,
   "metadata": {},
   "outputs": [
    {
     "data": {
      "application/vnd.jupyter.widget-view+json": {
       "model_id": "4b31f91afe3a4e8ebbf0c6a12831728a",
       "version_major": 2,
       "version_minor": 0
      },
      "text/plain": [
       "VBox(children=(BoundedFloatText(value=10.0, description='msq:', max=1000.0, step=1.0), Accordion(children=(HBo…"
      ]
     },
     "metadata": {},
     "output_type": "display_data"
    }
   ],
   "source": [
    "final_box = widgets.VBox([input_surface_area, input_paint_info_accordion, calculate_button, output])\n",
    "display(final_box)"
   ]
  },
  {
   "cell_type": "code",
   "execution_count": null,
   "metadata": {},
   "outputs": [],
   "source": []
  }
 ],
 "metadata": {
  "kernelspec": {
   "display_name": "Python 3",
   "language": "python",
   "name": "python3"
  },
  "language_info": {
   "codemirror_mode": {
    "name": "ipython",
    "version": 3
   },
   "file_extension": ".py",
   "mimetype": "text/x-python",
   "name": "python",
   "nbconvert_exporter": "python",
   "pygments_lexer": "ipython3",
   "version": "3.8.5"
  }
 },
 "nbformat": 4,
 "nbformat_minor": 1
}
