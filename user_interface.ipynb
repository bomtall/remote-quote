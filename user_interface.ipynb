{
 "cells": [
  {
   "cell_type": "code",
   "execution_count": 16,
   "metadata": {
    "pycharm": {
     "name": "#%%\n"
    }
   },
   "outputs": [],
   "source": [
    "import ipywidgets as widgets\n",
    "import core\n",
    "import paint_link\n",
    "import base64\n",
    "from IPython.display import display\n",
    "from ipywidgets import HTML\n"
   ]
  },
  {
   "cell_type": "markdown",
   "metadata": {},
   "source": [
    "## RemoteQuote"
   ]
  },
  {
   "cell_type": "code",
   "execution_count": 17,
   "metadata": {},
   "outputs": [],
   "source": [
    "# input_number_of_rooms = widgets.BoundedIntText(\n",
    "#     value=1,\n",
    "#     min=1,\n",
    "#     max=30,\n",
    "#     step=1,\n",
    "#     description='Rooms',\n",
    "#     disabled=False\n",
    "# )\n",
    "\n",
    "# display(input_number_of_rooms)\n",
    "\n",
    "# room_button = widgets.Button(\n",
    "#     description='Create Rooms',\n",
    "#     disabled=False,\n",
    "#     button_style='', # 'success', 'info', 'warning', 'danger' or ''\n",
    "#     tooltip='Click me',\n",
    "#     icon='check' # (FontAwesome names without the `fa-` prefix))\n",
    "# )\n",
    "\n",
    "# display(room_button)\n",
    "\n",
    "# room_button.on_click(room_button_callback)\n",
    "\n",
    "\n",
    "    "
   ]
  },
  {
   "cell_type": "code",
   "execution_count": 18,
   "metadata": {},
   "outputs": [],
   "source": [
    "input_surface = widgets.Dropdown(\n",
    "    options=['Wall', 'Ceiling', 'Door', 'Doorframe', 'Skirting Board', 'Elaborate Cornice', 'Window', 'Windowsill'],\n",
    "    value='Wall',\n",
    "    description='Surface:',\n",
    "    disabled=False,\n",
    ")\n",
    "\n"
   ]
  },
  {
   "cell_type": "code",
   "execution_count": 19,
   "metadata": {},
   "outputs": [],
   "source": [
    "def input_surface_switch():\n",
    "    \n",
    "    if input_surface.value == 'Ceiling':\n",
    "        surface = core.Ceiling\n",
    "    elif input_surface.value == 'Door':\n",
    "        surface = core.Door\n",
    "    elif input_surface.value == 'Doorframe':\n",
    "        surface = core.Doorframe\n",
    "    elif input_surface.value == 'Skirting Board':\n",
    "        surface = core.SkirtingBoard\n",
    "    elif input_surface.value == 'Elaborate Cornice':\n",
    "        surface = core.ElaborateCornice\n",
    "    elif input_surface.value == 'Window':\n",
    "        surface = core.Window\n",
    "    elif input_surface.value == 'Windowsill':\n",
    "        surface = core.Windowsill\n",
    "    else:\n",
    "        surface = core.Wall\n",
    "        \n",
    "    return surface\n",
    "\n",
    "\n",
    "        "
   ]
  },
  {
   "cell_type": "code",
   "execution_count": null,
   "metadata": {},
   "outputs": [],
   "source": []
  },
  {
   "cell_type": "code",
   "execution_count": 20,
   "metadata": {},
   "outputs": [],
   "source": [
    "input_surface_area = widgets.BoundedFloatText(\n",
    "    value=10,\n",
    "    min=0,\n",
    "    max=1000.0,\n",
    "    step=1.0,\n",
    "    description='msq:',\n",
    "    disabled=False\n",
    ")\n",
    "\n",
    "# display(input_surface_area)"
   ]
  },
  {
   "cell_type": "code",
   "execution_count": 21,
   "metadata": {},
   "outputs": [],
   "source": [
    "input_condition_option = widgets.Dropdown(\n",
    "    options=['poor', 'okay', 'good'],\n",
    "    value='good',\n",
    "    description='Condition:',\n",
    "    disabled=False,\n",
    ")"
   ]
  },
  {
   "cell_type": "code",
   "execution_count": 22,
   "metadata": {},
   "outputs": [],
   "source": [
    "# def input_condition_switch():\n",
    "#     if input_condition_option.value = 'poor':\n",
    "#         return 'poor'\n",
    "#     elif input_condition_option.value = 'okay':\n",
    "#         return 'okay'\n",
    "#     else:\n",
    "#         return 'good'\n",
    "        \n",
    "    "
   ]
  },
  {
   "cell_type": "code",
   "execution_count": 23,
   "metadata": {},
   "outputs": [],
   "source": [
    "input_paint_finish_choice = widgets.ToggleButtons(\n",
    "    options=['Vinyl Matt', 'Diamond Matt', 'Custom Input'],\n",
    "    description='Paint Finish:',\n",
    "    disabled=False,\n",
    "    button_style='', # 'success', 'info', 'warning', 'danger' or ''\n",
    "    tooltips=['Vinyl Matt Emulsion', 'Diamond Matt Emulsion 10x Stronger', 'Input custom values for your paint'],\n",
    "    value = None\n",
    "#     icons=['check'] * 3\n",
    "    \n",
    ")\n",
    "\n",
    "\n"
   ]
  },
  {
   "cell_type": "code",
   "execution_count": 24,
   "metadata": {},
   "outputs": [],
   "source": [
    "def togglebutton_callback(change):\n",
    "    if change['new'] == 'Vinyl Matt':\n",
    "        input_paint_price.value = 37.87\n",
    "        input_paint_price.disabled = True\n",
    "        input_paint_unit.disabled = True\n",
    "        input_paint_coverage.value = 50\n",
    "        input_paint_coverage.disabled = True\n",
    "    elif change['new'] == 'Diamond Matt':\n",
    "        input_paint_price.value = 50.03\n",
    "        input_paint_price.disabled = True\n",
    "        input_paint_unit.disabled = True\n",
    "        input_paint_coverage.value = 50\n",
    "        input_paint_coverage.disabled = True\n",
    "    else:\n",
    "        input_paint_price.value = 30\n",
    "        input_paint_price.disabled = False\n",
    "        input_paint_coverage.disabled = False\n",
    "        input_paint_unit.disabled = False\n",
    "        input_paint_coverage.value = 50\n",
    "    \n",
    "      "
   ]
  },
  {
   "cell_type": "code",
   "execution_count": 25,
   "metadata": {},
   "outputs": [],
   "source": [
    "input_paint_finish_choice.observe(togglebutton_callback, 'value')"
   ]
  },
  {
   "cell_type": "code",
   "execution_count": null,
   "metadata": {},
   "outputs": [],
   "source": []
  },
  {
   "cell_type": "code",
   "execution_count": 26,
   "metadata": {},
   "outputs": [],
   "source": [
    "input_paint_price = widgets.BoundedFloatText(\n",
    "    value=30,\n",
    "    min=0,\n",
    "    max=1000.0,\n",
    "    step=1.0,\n",
    "    description='£:',\n",
    "    disabled=False\n",
    ")\n",
    "\n",
    "input_paint_unit = widgets.BoundedFloatText(\n",
    "    value=5,\n",
    "    min=0,\n",
    "    max=10.0,\n",
    "    step=1.0,\n",
    "    description='Litres:',\n",
    "    disabled=False\n",
    ")\n",
    "\n",
    "input_paint_coverage = widgets.BoundedFloatText(\n",
    "    value=17,\n",
    "    min=0,\n",
    "    max=100.0,\n",
    "    step=1.0,\n",
    "    description='Coverage:',\n",
    "    disabled=False\n",
    ")\n",
    "\n",
    "\n",
    "input_paint_info = widgets.HBox([input_paint_price, input_paint_unit, input_paint_coverage])\n",
    "\n",
    "\n",
    "input_paint_info_accordion = widgets.Accordion(children=[input_paint_info], selected_index=None,)\n",
    "input_paint_info_accordion.set_title(0, \"Paint Information...\")\n",
    "\n",
    "\n",
    "input_paint_info_accordion.layout.visibility = 'visible'\n",
    "\n",
    "\n"
   ]
  },
  {
   "cell_type": "code",
   "execution_count": null,
   "metadata": {},
   "outputs": [],
   "source": []
  },
  {
   "cell_type": "code",
   "execution_count": 27,
   "metadata": {},
   "outputs": [],
   "source": [
    "def calculate_button_callback(*args, **kwargs):\n",
    "    incorrect_inputs = False\n",
    "    \n",
    "    surface_class = input_surface_switch()\n",
    "    \n",
    "    substrate = core.PrePaintedEmulsion(condition=input_condition_option.value)\n",
    "    \n",
    "    surface = surface_class(input_surface_area.value, substrate=substrate)\n",
    "    \n",
    "    if input_paint_finish_choice.value == 'Vinyl Matt':\n",
    "        applicant = paint_link.Matt()\n",
    "       \n",
    "    elif input_paint_finish_choice.value == 'Custom Input':\n",
    "        \n",
    "        applicant = core.Paint(input_paint_price.value, input_paint_unit.value, input_paint_coverage.value)\n",
    "        \n",
    "    elif input_paint_finish_choice.value == 'Diamond Matt':\n",
    "        applicant = paint_link.Diamond()\n",
    "    else:\n",
    "        incorrect_inputs = True\n",
    "        \n",
    "        \n",
    "        \n",
    "    if incorrect_inputs:\n",
    "        output.value = 'Incorrect Inputs'\n",
    "    else:        \n",
    "        paint_surface = core.PaintingSurface(surface, applicant)\n",
    "    \n",
    "        output.value = f'{paint_surface.get_total_price():.2f}' \n",
    "        \n",
    "        VAT_price = f'{(paint_surface.get_total_price()/100) * 120 :.2f}'\n",
    "        \n",
    "        \n",
    "        res = f'''\n",
    "        \n",
    "        Your RemoteQuote\n",
    "        Total {paint_surface.get_total_price():.2f}\n",
    "        + VAT (If applicable) {(paint_surface.get_total_price()/100) * 120 :.2f}\n",
    "        '''\n",
    "\n",
    "        #FILE\n",
    "        filename = 'quote.txt'\n",
    "        b64 = base64.b64encode(res.encode())\n",
    "        payload = b64.decode()\n",
    "\n",
    "        #BUTTONS\n",
    "        html_buttons = '''<html>\n",
    "        <head>\n",
    "        <meta name=\"viewport\" content=\"width=device-width, initial-scale=1\">\n",
    "        </head>\n",
    "        <body>\n",
    "        <a download=\"{filename}\" href=\"data:text/csv;base64,{payload}\" download>\n",
    "        <button class=\"p-Widget jupyter-widgets jupyter-button widget-button mod-info\">Download Quote</button>\n",
    "        </a>\n",
    "        </body>\n",
    "        </html>\n",
    "        '''\n",
    "\n",
    "        html_button = html_buttons.format(payload=payload,filename=filename)\n",
    "        display(HTML(html_button))\n",
    "        \n",
    "        output.value = html_button + output.value\n",
    "        \n",
    "    \n",
    "        \n",
    "        \n",
    "        "
   ]
  },
  {
   "cell_type": "code",
   "execution_count": 28,
   "metadata": {
    "pycharm": {
     "name": "#%%\n"
    }
   },
   "outputs": [],
   "source": [
    "calculate_button = widgets.Button(\n",
    "    description='Estimate Job',\n",
    "    disabled=False,\n",
    "    button_style='', # 'success', 'info', 'warning', 'danger' or ''\n",
    "    tooltip='Calculate',\n",
    "    icon='check' # (FontAwesome names without the `fa-` prefix)\n",
    "    \n",
    "    \n",
    ")\n",
    "calculate_button.style.button_color='palegreen'\n",
    "\n",
    "calculate_button.on_click(calculate_button_callback)\n",
    "\n",
    "\n"
   ]
  },
  {
   "cell_type": "code",
   "execution_count": 29,
   "metadata": {},
   "outputs": [],
   "source": [
    "output = widgets.HTML()"
   ]
  },
  {
   "cell_type": "code",
   "execution_count": 31,
   "metadata": {},
   "outputs": [
    {
     "data": {
      "application/vnd.jupyter.widget-view+json": {
       "model_id": "984e375e88da49ea83c902cb3e2a055d",
       "version_major": 2,
       "version_minor": 0
      },
      "text/plain": [
       "Button(description='Estimate Job', icon='check', style=ButtonStyle(button_color='palegreen'), tooltip='Calcula…"
      ]
     },
     "metadata": {},
     "output_type": "display_data"
    },
    {
     "data": {
      "application/vnd.jupyter.widget-view+json": {
       "model_id": "c104183b16b64485ba7fd51b35e9445a",
       "version_major": 2,
       "version_minor": 0
      },
      "text/plain": [
       "HTML(value='')"
      ]
     },
     "metadata": {},
     "output_type": "display_data"
    },
    {
     "data": {
      "application/vnd.jupyter.widget-view+json": {
       "model_id": "fa73b103f4e946b6a576e0dda378f548",
       "version_major": 2,
       "version_minor": 0
      },
      "text/plain": [
       "Tab(children=(VBox(children=(Dropdown(description='Surface:', options=('Wall', 'Ceiling', 'Door', 'Doorframe',…"
      ]
     },
     "metadata": {},
     "output_type": "display_data"
    }
   ],
   "source": [
    "\n",
    "\n",
    "final_box = widgets.VBox([input_surface, input_surface_area, input_condition_option, input_paint_finish_choice, input_paint_info_accordion,], )\n",
    "\n",
    "# display(calculate_button, output)\n",
    "\n",
    "result = widgets.VBox([calculate_button, output])\n",
    "\n",
    "tab_contents = ['Room' + str(x + 1) for x in range(30)]\n",
    "\n",
    "children = [final_box for name in tab_contents]\n",
    "\n",
    "tab = widgets.Tab()\n",
    "tab.children = children\n",
    "\n",
    "for i in range(len(children)):\n",
    "    tab.set_title(title=tab_contents[i], index=i)\n",
    "\n",
    "display(tab, result)\n",
    "\n",
    "    \n",
    "# def room_button_callback(*args, **kwargs):\n",
    "#     tab_contents = ['Room' + str(x + 1) for x in range(input_number_of_rooms.value)]\n",
    "#     children = [final_box for name in tab_contents]\n",
    "\n",
    "#     tab = widgets.Tab()\n",
    "#     tab.children = children\n",
    "\n",
    "#     for i in range(len(children)):\n",
    "#         tab.set_title(title=tab_contents[i], index=i)\n",
    "#     tab\n",
    "#     display(tab)\n",
    "\n",
    "# # display(final_box)\n",
    "\n",
    "# # tab_contents = ['Room1', 'Room2', 'Room3', 'Room4', 'Room5']\n",
    "\n",
    "\n",
    "\n",
    "\n",
    "\n",
    "\n",
    "\n",
    "\n",
    "# room_button.on_click(room_button_callback)\n",
    "\n",
    "\n",
    "\n",
    "    \n"
   ]
  },
  {
   "cell_type": "code",
   "execution_count": null,
   "metadata": {},
   "outputs": [],
   "source": [
    "\n",
    "\n",
    "\n"
   ]
  },
  {
   "cell_type": "code",
   "execution_count": null,
   "metadata": {},
   "outputs": [],
   "source": []
  },
  {
   "cell_type": "code",
   "execution_count": null,
   "metadata": {},
   "outputs": [],
   "source": []
  }
 ],
 "metadata": {
  "kernelspec": {
   "display_name": "Python 3",
   "language": "python",
   "name": "python3"
  },
  "language_info": {
   "codemirror_mode": {
    "name": "ipython",
    "version": 3
   },
   "file_extension": ".py",
   "mimetype": "text/x-python",
   "name": "python",
   "nbconvert_exporter": "python",
   "pygments_lexer": "ipython3",
   "version": "3.8.5"
  }
 },
 "nbformat": 4,
 "nbformat_minor": 1
}
