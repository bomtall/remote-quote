{
 "cells": [
  {
   "cell_type": "code",
   "execution_count": 1,
   "metadata": {
    "pycharm": {
     "name": "#%%\n"
    }
   },
   "outputs": [],
   "source": [
    "import ipywidgets as widgets\n",
    "import core\n",
    "import paint_link\n",
    "import base64\n",
    "from IPython.display import display\n",
    "from ipywidgets import HTML\n"
   ]
  },
  {
   "cell_type": "markdown",
   "metadata": {},
   "source": [
    "## RemoteQuote"
   ]
  },
  {
   "cell_type": "code",
   "execution_count": 2,
   "metadata": {},
   "outputs": [],
   "source": [
    "# input_number_of_rooms = widgets.BoundedIntText(\n",
    "#     value=1,\n",
    "#     min=1,\n",
    "#     max=30,\n",
    "#     step=1,\n",
    "#     description='Rooms',\n",
    "#     disabled=False\n",
    "# )\n",
    "\n",
    "# display(input_number_of_rooms)\n",
    "\n",
    "# room_button = widgets.Button(\n",
    "#     description='Create Rooms',\n",
    "#     disabled=False,\n",
    "#     button_style='', # 'success', 'info', 'warning', 'danger' or ''\n",
    "#     tooltip='Click me',\n",
    "#     icon='check' # (FontAwesome names without the `fa-` prefix))\n",
    "# )\n",
    "\n",
    "# display(room_button)\n",
    "\n",
    "# room_button.on_click(room_button_callback)\n",
    "\n",
    "\n",
    "    "
   ]
  },
  {
   "cell_type": "code",
   "execution_count": 3,
   "metadata": {},
   "outputs": [],
   "source": [
    "input_surface = widgets.Dropdown(\n",
    "    options=['Wall', 'Ceiling', 'Door', 'Doorframe', 'Skirting Board', 'Elaborate Cornice', 'Window', 'Windowsill', 'Spindle', 'Radiator'],\n",
    "    value='Wall',\n",
    "    description='Surface:',\n",
    "    disabled=False,\n",
    "\n",
    ")\n",
    "\n"
   ]
  },
  {
   "cell_type": "code",
   "execution_count": null,
   "metadata": {},
   "outputs": [],
   "source": []
  },
  {
   "cell_type": "code",
   "execution_count": 4,
   "metadata": {},
   "outputs": [],
   "source": [
    "def input_surface_switch():\n",
    "    \n",
    "    design_options.layout.visibility = 'hidden'\n",
    "    \n",
    "    \n",
    "    if input_surface.value == 'Ceiling':\n",
    "        surface = core.Ceiling\n",
    "        num_panes_select.layout.visibility = 'hidden'\n",
    "        \n",
    "        \n",
    "    elif input_surface.value == 'Door':\n",
    "        surface = core.Door\n",
    "        design_options.layout.visibility = 'visible'       \n",
    "        design_options.options = ['Flat door', 'Panelled', 'Cutting in']\n",
    "        \n",
    "    elif input_surface.value == 'Doorframe':\n",
    "        surface = core.Doorframe\n",
    "        design_options.layout.visibility = 'visible'\n",
    "        design_options.options = ['Standard', 'Victorian', 'Elaborate']\n",
    "        num_panes_select.layout.visibility = 'hidden'\n",
    "        \n",
    "    elif input_surface.value == 'Skirting Board':\n",
    "        surface = core.Skirtingboard\n",
    "        num_panes_select.layout.visibility = 'hidden'\n",
    "        \n",
    "    elif input_surface.value == 'Elaborate Cornice':\n",
    "        surface = core.ElaborateCornice\n",
    "        num_panes_select.layout.visibility = 'hidden'\n",
    "        \n",
    "    elif input_surface.value == 'Window':\n",
    "        surface = core.Window        \n",
    "        num_panes_select.layout.visibility = 'visible'\n",
    "        \n",
    "    elif input_surface.value == 'Windowsill':\n",
    "        surface = core.Windowsill\n",
    "        num_panes_select.layout.visibility = 'hidden'\n",
    "        \n",
    "    elif input_surface.value == 'Spindle':\n",
    "        surface = core.Spindle\n",
    "        design_options.layout.visibility = 'visible'\n",
    "        design_options.options = ['Square', 'Shaped', 'Elaborate']\n",
    "        num_panes_select.layout.visibility = 'hidden'\n",
    "        \n",
    "    elif input_surface.value == 'Radiator':\n",
    "        surface = core.Radiator\n",
    "        num_panes_select.layout.visibility = 'hidden'\n",
    "        \n",
    "    else:\n",
    "        surface = core.Wall\n",
    "        num_panes_select.layout.visibility = 'hidden'\n",
    "        \n",
    "        \n",
    "        \n",
    "    return surface\n",
    "\n",
    "def door_panes_callback(change):\n",
    "    if change['new'] == 'Cutting in':\n",
    "        num_panes_select.layout.visibility = 'visible'\n",
    "    else:\n",
    "        num_panes_select.layout.visibility = 'hidden'\n",
    "\n",
    "\n",
    "#This function is currently used in two places. To make the design options appear and to set the surface class.\n",
    "        "
   ]
  },
  {
   "cell_type": "code",
   "execution_count": 5,
   "metadata": {},
   "outputs": [],
   "source": [
    "design_options = widgets.Dropdown(\n",
    "    options=[''],\n",
    "    value='',\n",
    "    description='Design:',\n",
    "    disabled=False,\n",
    "    \n",
    ")\n",
    "\n",
    "design_options.layout.visibility = 'hidden'\n",
    "\n",
    "\n",
    "\n",
    "def design_options_callback(change):\n",
    "    if change['new']:\n",
    "        input_surface_switch()\n",
    "\n",
    "num_panes_select = widgets.BoundedIntText(\n",
    "    value=1,\n",
    "    min=1,\n",
    "    max=100,\n",
    "    step=1,\n",
    "    description='# Panes:',\n",
    "    disabled=False,\n",
    ")\n",
    "\n",
    "num_panes_select.layout.visibility = 'hidden'\n",
    "\n",
    "design_options.observe(door_panes_callback, 'value')"
   ]
  },
  {
   "cell_type": "code",
   "execution_count": 6,
   "metadata": {},
   "outputs": [],
   "source": [
    "input_surface_area = widgets.BoundedFloatText(\n",
    "    value=10,\n",
    "    min=0,\n",
    "    max=1000.0,\n",
    "    step=1.0,\n",
    "    description='msq:',\n",
    "    disabled=False,\n",
    "    \n",
    ")\n",
    "\n",
    "#display(input_surface_area)\n",
    "\n"
   ]
  },
  {
   "cell_type": "code",
   "execution_count": 7,
   "metadata": {},
   "outputs": [],
   "source": [
    "input_condition_option = widgets.Dropdown(\n",
    "    options=['poor', 'okay', 'good'],\n",
    "    value='good',\n",
    "    description='Condition:',\n",
    "    disabled=False,\n",
    ")\n",
    "\n"
   ]
  },
  {
   "cell_type": "code",
   "execution_count": 8,
   "metadata": {},
   "outputs": [],
   "source": [
    "# def input_condition_switch():\n",
    "#     if input_condition_option.value = 'poor':\n",
    "#         return 'poor'\n",
    "#     elif input_condition_option.value = 'okay':\n",
    "#         return 'okay'\n",
    "#     else:\n",
    "#         return 'good'\n",
    "        \n",
    "    "
   ]
  },
  {
   "cell_type": "code",
   "execution_count": 9,
   "metadata": {},
   "outputs": [],
   "source": [
    "input_paint_finish_choice = widgets.ToggleButtons(\n",
    "    options=['Emulsion Paint', 'Oil Paint', 'Custom Input'],\n",
    "    description='Paint Type:',\n",
    "    disabled=False,\n",
    "    button_style='', # 'success', 'info', 'warning', 'danger' or ''\n",
    "    tooltips=['Water Based Emulsion', 'Solvent Based Paint', 'Input custom Paint Parameters'],\n",
    "    value = None\n",
    "#     icons=['check'] * 3\n",
    "    \n",
    ")\n",
    "\n",
    "\n"
   ]
  },
  {
   "cell_type": "code",
   "execution_count": 10,
   "metadata": {},
   "outputs": [],
   "source": [
    "emulsion_choices = widgets.Dropdown(\n",
    "    options=['Vinyl Matt Emulsion', 'Diamond Matt Emulsion', 'Silk Emulsion'],\n",
    "    value='Vinyl Matt Emulsion',\n",
    "    description='Finish:',\n",
    "    disabled=False,\n",
    ")\n"
   ]
  },
  {
   "cell_type": "code",
   "execution_count": null,
   "metadata": {},
   "outputs": [],
   "source": [
    "\n",
    "        \n",
    "    "
   ]
  },
  {
   "cell_type": "code",
   "execution_count": 11,
   "metadata": {},
   "outputs": [],
   "source": [
    "vinyl_matt_emulsion = paint_link.MattEmulsionPaint()\n",
    "diamond_matt_emulsion = paint_link.DiamondMattEmulsion()\n",
    "silk_emulsion = paint_link.SilkEmulsionPaint()\n",
    "oil_eggshell = paint_link.OilEggshell()\n",
    "oil_gloss = paint_link.OilGloss()\n",
    "oil_satinwood = paint_link.OilSatin()\n",
    "\n"
   ]
  },
  {
   "cell_type": "code",
   "execution_count": 12,
   "metadata": {},
   "outputs": [],
   "source": [
    "def togglebutton_callback(change):\n",
    "    if change['new'] == 'Emulsion Paint':\n",
    "        emulsion_choices.layout.visibility = 'visible'\n",
    "        emulsion_choices.options = ['Vinyl Matt Emulsion', 'Diamond Matt Emulsion', 'Silk Emulsion']\n",
    "        \n",
    "        input_paint_price.value = vinyl_matt_emulsion.price\n",
    "        input_paint_price.disabled = True\n",
    "        input_paint_unit.value = vinyl_matt_emulsion.unit\n",
    "        input_paint_unit.disabled = True\n",
    "        input_paint_coverage.value = vinyl_matt_emulsion.coverage\n",
    "        input_paint_coverage.disabled = True\n",
    "               \n",
    "    elif change['new'] == 'Oil Paint':\n",
    "        emulsion_choices.layout.visibility = 'visible'\n",
    "        emulsion_choices.options = ['Eggshell', 'Gloss', 'Satinwood']\n",
    "        \n",
    "        input_paint_price.value = oil_eggshell.price\n",
    "        input_paint_price.disabled = True\n",
    "        input_paint_unit.value = oil_eggshell.unit\n",
    "        input_paint_unit.disabled = True\n",
    "        input_paint_coverage.value = 50\n",
    "        input_paint_coverage.disabled = True\n",
    "        \n",
    "    else:\n",
    "        emulsion_choices.layout.visibility = 'hidden'      #options = ['custom']\n",
    "        input_paint_price.value = 30\n",
    "        input_paint_price.disabled = False\n",
    "        input_paint_coverage.disabled = False\n",
    "        input_paint_unit.disabled = False\n",
    "        input_paint_coverage.value = 50\n",
    "    "
   ]
  },
  {
   "cell_type": "code",
   "execution_count": 13,
   "metadata": {},
   "outputs": [],
   "source": [
    "def emulsion_choices_callback(change):\n",
    "    if emulsion_choices.value == 'Vinyl Matt Emulsion':\n",
    "        input_paint_price.value = vinyl_matt_emulsion.price\n",
    "        input_paint_price.disabled = True\n",
    "        input_paint_unit.value = vinyl_matt_emulsion.unit\n",
    "        input_paint_unit.disabled = True\n",
    "        input_paint_coverage.value = vinyl_matt_emulsion.coverage\n",
    "        input_paint_coverage.disabled = True\n",
    "    elif emulsion_choices.value == 'Diamond Matt Emulsion':\n",
    "        input_paint_price.value = diamond_matt_emulsion.price\n",
    "        input_paint_price.disabled = True\n",
    "        input_paint_unit.value = diamond_emulsion.unit\n",
    "        input_paint_unit.disabled = True\n",
    "        input_paint_coverage.value = diamond_matt_emulsion.coverage\n",
    "        input_paint_coverage.disabled = True\n",
    "    elif emulsion_choices.value == 'Silk Emulsion':\n",
    "        input_paint_price.value = silk_emulsion.price\n",
    "        input_paint_price.disabled = True\n",
    "        input_paint_unit.value = silk_emulsion.unit\n",
    "        input_paint_unit.disabled = True\n",
    "        input_paint_coverage.value = silk_emulsion.coverage\n",
    "        input_paint_coverage.disabled = True\n",
    "    elif emulsion_choices.value == 'Eggshell':\n",
    "        input_paint_price.value = oil_eggshell.price\n",
    "        input_paint_price.disabled = True\n",
    "        input_paint_unit.value = oil_eggshell.unit\n",
    "        input_paint_unit.disabled = True\n",
    "        input_paint_coverage.value = oil_eggshell.coverage\n",
    "        input_paint_coverage.disabled = True\n",
    "    elif emulsion_choices.value == 'Gloss':\n",
    "        input_paint_price.value = oil_gloss.price\n",
    "        input_paint_price.disabled = True\n",
    "        input_paint_unit.value = oil_gloss.unit\n",
    "        input_paint_unit.disabled = True\n",
    "        input_paint_coverage.value = oil_gloss.coverage\n",
    "        input_paint_coverage.disabled = True\n",
    "    elif emulsion_choices.value == 'Satinwood':\n",
    "        input_paint_price.value = oil_satinwood.price\n",
    "        input_paint_price.disabled = True\n",
    "        input_paint_unit.value = oil_satinwood.unit\n",
    "        input_paint_unit.disabled = True\n",
    "        input_paint_coverage.value = oil_satinwood.coverage\n",
    "        input_paint_coverage.disabled = True\n",
    "        \n",
    "        "
   ]
  },
  {
   "cell_type": "code",
   "execution_count": 14,
   "metadata": {},
   "outputs": [],
   "source": [
    "input_paint_finish_choice.observe(togglebutton_callback, 'value')\n",
    "emulsion_choices.observe(emulsion_choices_callback, 'value')\n",
    "input_surface.observe(design_options_callback, 'value')"
   ]
  },
  {
   "cell_type": "code",
   "execution_count": null,
   "metadata": {},
   "outputs": [],
   "source": []
  },
  {
   "cell_type": "code",
   "execution_count": 15,
   "metadata": {},
   "outputs": [],
   "source": [
    "input_paint_price = widgets.BoundedFloatText(\n",
    "    value=30,\n",
    "    min=0,\n",
    "    max=1000.0,\n",
    "    step=1.0,\n",
    "    description='£:',\n",
    "    disabled=False\n",
    ")\n",
    "\n",
    "input_paint_unit = widgets.BoundedFloatText(\n",
    "    value=5,\n",
    "    min=0,\n",
    "    max=10.0,\n",
    "    step=1.0,\n",
    "    description='Litres:',\n",
    "    disabled=False\n",
    ")\n",
    "\n",
    "input_paint_coverage = widgets.BoundedFloatText(\n",
    "    value=17,\n",
    "    min=0,\n",
    "    max=100.0,\n",
    "    step=1.0,\n",
    "    description='Coverage:',\n",
    "    disabled=False\n",
    ")\n",
    "\n",
    "\n",
    "input_paint_info = widgets.HBox([input_paint_price, input_paint_unit, input_paint_coverage])\n",
    "\n",
    "\n",
    "input_paint_info_accordion = widgets.Accordion(children=[input_paint_info], selected_index=None,)\n",
    "input_paint_info_accordion.set_title(0, \"Paint Information...\")\n",
    "\n",
    "\n",
    "input_paint_info_accordion.layout.visibility = 'visible'\n",
    "\n",
    "\n"
   ]
  },
  {
   "cell_type": "code",
   "execution_count": null,
   "metadata": {},
   "outputs": [],
   "source": []
  },
  {
   "cell_type": "code",
   "execution_count": 16,
   "metadata": {},
   "outputs": [],
   "source": [
    "def calculate_button_callback(*args, **kwargs):\n",
    "    incorrect_inputs = False\n",
    "    \n",
    "    surface_class = input_surface_switch()\n",
    "    \n",
    "    substrate = core.PrePaintedEmulsion(condition=input_condition_option.value)\n",
    "    \n",
    "    #surface = surface_class(input_surface_area.value, substrate=substrate, design=design_options.value.lower())\n",
    "    \n",
    "       \n",
    "    if design_options.layout.visibility == 'hidden':\n",
    "        if num_panes_select.layout.visibility == 'hidden':\n",
    "            surface = surface_class(input_surface_area.value, substrate=substrate,)\n",
    "        else:\n",
    "            surface = surface_class(input_surface_area.value, substrate=substrate, num_panes=num_panes_select.value)\n",
    "    else:\n",
    "        if num_panes_select.layout.visibility == 'hidden':\n",
    "            surface = surface_class(input_surface_area.value, substrate=substrate, design=design_options.value.lower())\n",
    "        else:\n",
    "            surface = surface_class(input_surface_area.value, substrate=substrate, design=design_options.value.lower(), num_panes=num_panes_select.value)\n",
    "        \n",
    "        \n",
    "#     if design_options.value.lower() == 'cutting in':\n",
    "#         surface = surface_class(input_surface_area.value, substrate=substrate, design=design_options.value.lower(), num_panes=num_panes_select.value)\n",
    "#     elif input_surface.value == 'window':\n",
    "#         surface = surface_class(input_surface_area.value, substrate=substrate, design=design_options.value.lower(), num_panes=num_panes_select.value)\n",
    "#     else: \n",
    "#         surface = surface_class(input_surface_area.value, substrate=substrate, design=design_options.value.lower()) \n",
    "        \n",
    "    if input_paint_finish_choice.value is None:\n",
    "        incorrect_inputs = True    \n",
    "    \n",
    "    elif input_paint_finish_choice.value == 'Custom Input':\n",
    "        \n",
    "        applicant = core.Paint(input_paint_price.value, input_paint_unit.value, input_paint_coverage.value)\n",
    "    else:  \n",
    "        if emulsion_choices.value == 'Vinyl Matt Emulsion':\n",
    "            applicant = paint_link.MattEmulsionPaint()\n",
    "        elif emulsion_choices.value == 'Diamond Matt Emulsion':\n",
    "            applicant = paint_link.DiamondMattEmulsion()\n",
    "        elif emulsion_choices.value == 'Silk Emulsion':\n",
    "            applicant = paint_link.SilkEmulsionPaint()\n",
    "        elif emulsion_choices.value == 'Eggshell':\n",
    "            applicant = paint_link.OilEggshell()\n",
    "        elif emulsion_choices.value == 'Gloss':\n",
    "            applicant = paint_link.OilGloss()\n",
    "        elif emulsion_choices.value == 'Satinwood':\n",
    "            applicant = paint_link.OilSatin()\n",
    "          \n",
    "        \n",
    "        \n",
    "    if incorrect_inputs:\n",
    "        output.value = 'Incorrect Inputs'\n",
    "    else:        \n",
    "        paint_surface = core.PaintingSurface(surface, applicant)\n",
    "        \n",
    "        room_1 = core.Room([paint_surface])\n",
    "        \n",
    "        job_1 = core.Job([room_1])\n",
    "    \n",
    "        output.value = f'{job_1.get_total_price():.2f}' \n",
    "        \n",
    "        VAT_price = f'{(job_1.get_total_price()/100) * 120 :.2f}'\n",
    "        \n",
    "        \n",
    "        res = f'''\n",
    "        \n",
    "        Your RemoteQuote\n",
    "        Total {job_1.get_total_price():.2f}\n",
    "        + VAT (If applicable) {(job_1.get_total_price()/100) * 120 :.2f}\n",
    "        '''\n",
    "\n",
    "        #FILE\n",
    "        filename = 'quote.txt'\n",
    "        b64 = base64.b64encode(res.encode())\n",
    "        payload = b64.decode()\n",
    "\n",
    "        #BUTTONS\n",
    "        html_buttons = '''<html>\n",
    "        <head>\n",
    "        <meta name=\"viewport\" content=\"width=device-width, initial-scale=1\">\n",
    "        </head>\n",
    "        <body>\n",
    "        <a download=\"{filename}\" href=\"data:text/csv;base64,{payload}\" download>\n",
    "        <button class=\"p-Widget jupyter-widgets jupyter-button widget-button mod-info\">Download Quote</button>\n",
    "        </a>\n",
    "        </body>\n",
    "        </html>\n",
    "        '''\n",
    "\n",
    "        html_button = html_buttons.format(payload=payload,filename=filename)\n",
    "        display(HTML(html_button))\n",
    "        \n",
    "        output.value = html_button + output.value\n",
    "        \n",
    "        \n",
    "    \n",
    "        \n",
    "        \n",
    "        "
   ]
  },
  {
   "cell_type": "code",
   "execution_count": 17,
   "metadata": {
    "pycharm": {
     "name": "#%%\n"
    }
   },
   "outputs": [],
   "source": [
    "calculate_button = widgets.Button(\n",
    "    description='Estimate Job',\n",
    "    disabled=False,\n",
    "    button_style='', # 'success', 'info', 'warning', 'danger' or ''\n",
    "    tooltip='Calculate',\n",
    "    icon='check' # (FontAwesome names without the `fa-` prefix)\n",
    "    \n",
    "    \n",
    ")\n",
    "calculate_button.style.button_color='palegreen'\n",
    "\n",
    "calculate_button.on_click(calculate_button_callback)\n",
    "\n",
    "\n"
   ]
  },
  {
   "cell_type": "code",
   "execution_count": 18,
   "metadata": {},
   "outputs": [],
   "source": [
    "output = widgets.HTML()"
   ]
  },
  {
   "cell_type": "code",
   "execution_count": 19,
   "metadata": {},
   "outputs": [
    {
     "data": {
      "application/vnd.jupyter.widget-view+json": {
       "model_id": "cfe560b576b64eaf9f15de28132f2552",
       "version_major": 2,
       "version_minor": 0
      },
      "text/plain": [
       "Tab(children=(VBox(children=(Dropdown(description='Surface:', options=('Wall', 'Ceiling', 'Door', 'Doorframe',…"
      ]
     },
     "metadata": {},
     "output_type": "display_data"
    },
    {
     "data": {
      "application/vnd.jupyter.widget-view+json": {
       "model_id": "20172676cd8344e388ee6e1dfd4cbac0",
       "version_major": 2,
       "version_minor": 0
      },
      "text/plain": [
       "VBox(children=(Button(description='Estimate Job', icon='check', style=ButtonStyle(button_color='palegreen'), t…"
      ]
     },
     "metadata": {},
     "output_type": "display_data"
    },
    {
     "data": {
      "application/vnd.jupyter.widget-view+json": {
       "model_id": "d00d2a65edb8410fa010129aef603078",
       "version_major": 2,
       "version_minor": 0
      },
      "text/plain": [
       "HTML(value='<html>\\n        <head>\\n        <meta name=\"viewport\" content=\"width=device-width, initial-scale=1…"
      ]
     },
     "metadata": {},
     "output_type": "display_data"
    },
    {
     "data": {
      "application/vnd.jupyter.widget-view+json": {
       "model_id": "59637dfed4b94394983f155f36f18265",
       "version_major": 2,
       "version_minor": 0
      },
      "text/plain": [
       "HTML(value='<html>\\n        <head>\\n        <meta name=\"viewport\" content=\"width=device-width, initial-scale=1…"
      ]
     },
     "metadata": {},
     "output_type": "display_data"
    },
    {
     "data": {
      "application/vnd.jupyter.widget-view+json": {
       "model_id": "3b8132febbf541b69b7a95830f01ad7b",
       "version_major": 2,
       "version_minor": 0
      },
      "text/plain": [
       "HTML(value='<html>\\n        <head>\\n        <meta name=\"viewport\" content=\"width=device-width, initial-scale=1…"
      ]
     },
     "metadata": {},
     "output_type": "display_data"
    },
    {
     "data": {
      "application/vnd.jupyter.widget-view+json": {
       "model_id": "a331478006d5482088048fabddaf4d02",
       "version_major": 2,
       "version_minor": 0
      },
      "text/plain": [
       "HTML(value='<html>\\n        <head>\\n        <meta name=\"viewport\" content=\"width=device-width, initial-scale=1…"
      ]
     },
     "metadata": {},
     "output_type": "display_data"
    },
    {
     "data": {
      "application/vnd.jupyter.widget-view+json": {
       "model_id": "85b94e4d5cc345aa9d66bb4243a909f9",
       "version_major": 2,
       "version_minor": 0
      },
      "text/plain": [
       "HTML(value='<html>\\n        <head>\\n        <meta name=\"viewport\" content=\"width=device-width, initial-scale=1…"
      ]
     },
     "metadata": {},
     "output_type": "display_data"
    },
    {
     "data": {
      "application/vnd.jupyter.widget-view+json": {
       "model_id": "15cbc12b754445288044daa35f637fb7",
       "version_major": 2,
       "version_minor": 0
      },
      "text/plain": [
       "HTML(value='<html>\\n        <head>\\n        <meta name=\"viewport\" content=\"width=device-width, initial-scale=1…"
      ]
     },
     "metadata": {},
     "output_type": "display_data"
    },
    {
     "data": {
      "application/vnd.jupyter.widget-view+json": {
       "model_id": "ece7cf7642334c51aaac2156b94b1024",
       "version_major": 2,
       "version_minor": 0
      },
      "text/plain": [
       "HTML(value='<html>\\n        <head>\\n        <meta name=\"viewport\" content=\"width=device-width, initial-scale=1…"
      ]
     },
     "metadata": {},
     "output_type": "display_data"
    },
    {
     "data": {
      "application/vnd.jupyter.widget-view+json": {
       "model_id": "e1f1f7ccc6d7419d832d7398f97fe934",
       "version_major": 2,
       "version_minor": 0
      },
      "text/plain": [
       "HTML(value='<html>\\n        <head>\\n        <meta name=\"viewport\" content=\"width=device-width, initial-scale=1…"
      ]
     },
     "metadata": {},
     "output_type": "display_data"
    },
    {
     "data": {
      "application/vnd.jupyter.widget-view+json": {
       "model_id": "f30e19ebfb9f4f94b094b0e30845b66c",
       "version_major": 2,
       "version_minor": 0
      },
      "text/plain": [
       "HTML(value='<html>\\n        <head>\\n        <meta name=\"viewport\" content=\"width=device-width, initial-scale=1…"
      ]
     },
     "metadata": {},
     "output_type": "display_data"
    },
    {
     "data": {
      "application/vnd.jupyter.widget-view+json": {
       "model_id": "b3b8628063c64c8d8c8a469da334fd55",
       "version_major": 2,
       "version_minor": 0
      },
      "text/plain": [
       "HTML(value='<html>\\n        <head>\\n        <meta name=\"viewport\" content=\"width=device-width, initial-scale=1…"
      ]
     },
     "metadata": {},
     "output_type": "display_data"
    },
    {
     "data": {
      "application/vnd.jupyter.widget-view+json": {
       "model_id": "fd23452a3aa945fea39894eb60e41a69",
       "version_major": 2,
       "version_minor": 0
      },
      "text/plain": [
       "HTML(value='<html>\\n        <head>\\n        <meta name=\"viewport\" content=\"width=device-width, initial-scale=1…"
      ]
     },
     "metadata": {},
     "output_type": "display_data"
    },
    {
     "data": {
      "application/vnd.jupyter.widget-view+json": {
       "model_id": "635202197a1e4e7284b043664ec1bf5b",
       "version_major": 2,
       "version_minor": 0
      },
      "text/plain": [
       "HTML(value='<html>\\n        <head>\\n        <meta name=\"viewport\" content=\"width=device-width, initial-scale=1…"
      ]
     },
     "metadata": {},
     "output_type": "display_data"
    },
    {
     "data": {
      "application/vnd.jupyter.widget-view+json": {
       "model_id": "5be876dd81ca4ca79561b8a8dd03fcf6",
       "version_major": 2,
       "version_minor": 0
      },
      "text/plain": [
       "HTML(value='<html>\\n        <head>\\n        <meta name=\"viewport\" content=\"width=device-width, initial-scale=1…"
      ]
     },
     "metadata": {},
     "output_type": "display_data"
    },
    {
     "data": {
      "application/vnd.jupyter.widget-view+json": {
       "model_id": "6dda6b7a131e405b961427876a38a311",
       "version_major": 2,
       "version_minor": 0
      },
      "text/plain": [
       "HTML(value='<html>\\n        <head>\\n        <meta name=\"viewport\" content=\"width=device-width, initial-scale=1…"
      ]
     },
     "metadata": {},
     "output_type": "display_data"
    },
    {
     "data": {
      "application/vnd.jupyter.widget-view+json": {
       "model_id": "3c3ee81424224f3fac62d733d2c8661f",
       "version_major": 2,
       "version_minor": 0
      },
      "text/plain": [
       "HTML(value='<html>\\n        <head>\\n        <meta name=\"viewport\" content=\"width=device-width, initial-scale=1…"
      ]
     },
     "metadata": {},
     "output_type": "display_data"
    },
    {
     "data": {
      "application/vnd.jupyter.widget-view+json": {
       "model_id": "77a9c5060154476da37aa4c79906e2e0",
       "version_major": 2,
       "version_minor": 0
      },
      "text/plain": [
       "HTML(value='<html>\\n        <head>\\n        <meta name=\"viewport\" content=\"width=device-width, initial-scale=1…"
      ]
     },
     "metadata": {},
     "output_type": "display_data"
    },
    {
     "data": {
      "application/vnd.jupyter.widget-view+json": {
       "model_id": "c6ce48356c4d4386bcc2d689162bdc89",
       "version_major": 2,
       "version_minor": 0
      },
      "text/plain": [
       "HTML(value='<html>\\n        <head>\\n        <meta name=\"viewport\" content=\"width=device-width, initial-scale=1…"
      ]
     },
     "metadata": {},
     "output_type": "display_data"
    }
   ],
   "source": [
    "\n",
    "\n",
    "final_box = widgets.VBox([input_surface, design_options, num_panes_select, input_surface_area, input_condition_option, input_paint_finish_choice, emulsion_choices, input_paint_info_accordion,], )\n",
    "\n",
    "# display(calculate_button, output)\n",
    "\n",
    "result = widgets.VBox([calculate_button, output])\n",
    "\n",
    "tab_contents = ['Room' + str(x + 1) for x in range(2)]\n",
    "\n",
    "children = [final_box for name in tab_contents]\n",
    "\n",
    "tab = widgets.Tab()\n",
    "tab.children = children\n",
    "\n",
    "for i in range(len(children)):\n",
    "    tab.set_title(title=tab_contents[i], index=i)\n",
    "\n",
    "display(tab, result)\n",
    "\n",
    "    \n",
    "\n",
    "\n",
    "\n",
    "    \n"
   ]
  },
  {
   "cell_type": "code",
   "execution_count": null,
   "metadata": {},
   "outputs": [],
   "source": [
    "\n",
    "\n",
    "\n"
   ]
  },
  {
   "cell_type": "code",
   "execution_count": null,
   "metadata": {},
   "outputs": [],
   "source": []
  },
  {
   "cell_type": "code",
   "execution_count": null,
   "metadata": {},
   "outputs": [],
   "source": []
  }
 ],
 "metadata": {
  "kernelspec": {
   "display_name": "Python 3",
   "language": "python",
   "name": "python3"
  },
  "language_info": {
   "codemirror_mode": {
    "name": "ipython",
    "version": 3
   },
   "file_extension": ".py",
   "mimetype": "text/x-python",
   "name": "python",
   "nbconvert_exporter": "python",
   "pygments_lexer": "ipython3",
   "version": "3.8.5"
  }
 },
 "nbformat": 4,
 "nbformat_minor": 1
}
