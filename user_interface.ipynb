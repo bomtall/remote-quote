{
 "cells": [
  {
   "cell_type": "code",
   "execution_count": 1,
   "metadata": {
    "pycharm": {
     "name": "#%%\n"
    }
   },
   "outputs": [],
   "source": [
    "import ipywidgets as widgets\n",
    "import core\n",
    "import paint_link"
   ]
  },
  {
   "cell_type": "code",
   "execution_count": 2,
   "metadata": {},
   "outputs": [],
   "source": [
    "input_surface_area = widgets.BoundedFloatText(\n",
    "    value=10,\n",
    "    min=0,\n",
    "    max=1000.0,\n",
    "    step=1.0,\n",
    "    description='msq:',\n",
    "    disabled=False\n",
    ")\n",
    "\n",
    "# display(input_surface_area)"
   ]
  },
  {
   "cell_type": "code",
   "execution_count": 3,
   "metadata": {},
   "outputs": [],
   "source": [
    "input_paint_finish_choice = widgets.ToggleButtons(\n",
    "    options=['Vinyl Matt', 'Diamond Matt', 'Custom Input'],\n",
    "    description='Paint Finish:',\n",
    "    disabled=False,\n",
    "    button_style='', # 'success', 'info', 'warning', 'danger' or ''\n",
    "    tooltips=['Vinyl Matt Emulsion', 'Diamond Matt Emulsion 10x Stronger', 'Input custom values for your paint'],\n",
    "#     icons=['check'] * 3\n",
    ")\n",
    "\n"
   ]
  },
  {
   "cell_type": "code",
   "execution_count": 4,
   "metadata": {},
   "outputs": [],
   "source": [
    "def togglebutton_callback(widget):\n",
    "    if widget['new'] == 'Custom Input':\n",
    "        input_paint_info_accordion.layout.visibility = 'visible'\n",
    "    else: input_paint_info_accordion.layout.visibility = 'hidden'\n",
    "    "
   ]
  },
  {
   "cell_type": "code",
   "execution_count": 5,
   "metadata": {},
   "outputs": [],
   "source": [
    "input_paint_finish_choice.observe(togglebutton_callback, 'value')"
   ]
  },
  {
   "cell_type": "code",
   "execution_count": 6,
   "metadata": {},
   "outputs": [],
   "source": [
    "input_paint_price = widgets.BoundedFloatText(\n",
    "    value=30,\n",
    "    min=0,\n",
    "    max=1000.0,\n",
    "    step=1.0,\n",
    "    description='£:',\n",
    "    disabled=False\n",
    ")\n",
    "\n",
    "input_paint_unit = widgets.BoundedFloatText(\n",
    "    value=5,\n",
    "    min=0,\n",
    "    max=10.0,\n",
    "    step=1.0,\n",
    "    description='Litres:',\n",
    "    disabled=False\n",
    ")\n",
    "\n",
    "input_paint_coverage = widgets.BoundedFloatText(\n",
    "    value=50,\n",
    "    min=0,\n",
    "    max=100.0,\n",
    "    step=1.0,\n",
    "    description='Coverage:',\n",
    "    disabled=False\n",
    ")\n",
    "\n",
    "input_paint_info = widgets.HBox([input_paint_price, input_paint_unit, input_paint_coverage])\n",
    "\n",
    "input_paint_info_accordion = widgets.Accordion(children=[input_paint_info], selected_index=None)\n",
    "input_paint_info_accordion.set_title(0, \"Paint Information...\")\n",
    "\n",
    "input_paint_info_accordion.layout.visibility = 'hidden'\n"
   ]
  },
  {
   "cell_type": "code",
   "execution_count": 20,
   "metadata": {},
   "outputs": [],
   "source": [
    "def calculate_button_callback(*args, **kwargs):\n",
    "    substrate = core.Wall(input_surface_area.value)\n",
    "    if input_paint_finish_choice.value == 'Vinyl Matt':\n",
    "        applicant = paint_link.Matt()\n",
    "        \n",
    "    elif input_paint_finish_choice.value == 'Custom Input':\n",
    "        applicant = core.Paint(input_paint_price.value, input_paint_unit.value, input_paint_coverage.value)\n",
    "        \n",
    "    else:\n",
    "        applicant = paint_link.Diamond()\n",
    "        \n",
    "\n",
    "    paint_surface = core.PaintingSurface(substrate, applicant)\n",
    "    \n",
    "    output.value = f'{paint_surface.get_total_price():.2f}'"
   ]
  },
  {
   "cell_type": "code",
   "execution_count": 21,
   "metadata": {
    "pycharm": {
     "name": "#%%\n"
    }
   },
   "outputs": [],
   "source": [
    "calculate_button = widgets.Button(\n",
    "    description='Estimate Job',\n",
    "    disabled=False,\n",
    "    button_style='', # 'success', 'info', 'warning', 'danger' or ''\n",
    "    tooltip='Calculate',\n",
    "    icon='check' # (FontAwesome names without the `fa-` prefix)\n",
    ")\n",
    "\n",
    "calculate_button.on_click(calculate_button_callback)\n",
    "\n",
    "# display(calculate_button)"
   ]
  },
  {
   "cell_type": "code",
   "execution_count": 22,
   "metadata": {},
   "outputs": [],
   "source": [
    "output = widgets.HTML()"
   ]
  },
  {
   "cell_type": "code",
   "execution_count": 23,
   "metadata": {},
   "outputs": [
    {
     "data": {
      "application/vnd.jupyter.widget-view+json": {
       "model_id": "c0ab0b3956b046db82888b0b37647e45",
       "version_major": 2,
       "version_minor": 0
      },
      "text/plain": [
       "VBox(children=(BoundedFloatText(value=41.7, description='msq:', max=1000.0, step=1.0), ToggleButtons(descripti…"
      ]
     },
     "metadata": {},
     "output_type": "display_data"
    }
   ],
   "source": [
    "final_box = widgets.VBox([input_surface_area, input_paint_finish_choice, input_paint_info_accordion, calculate_button, output,])\n",
    "display(final_box)"
   ]
  },
  {
   "cell_type": "code",
   "execution_count": 11,
   "metadata": {},
   "outputs": [],
   "source": [
    "# input_paint_price = widgets.BoundedFloatText(\n",
    "#     value=30,\n",
    "#     min=0,\n",
    "#     max=1000.0,\n",
    "#     step=1.0,\n",
    "#     description='£:',\n",
    "#     disabled=False\n",
    "# )\n",
    "\n",
    "# input_paint_unit = widgets.BoundedFloatText(\n",
    "#     value=5,\n",
    "#     min=0,\n",
    "#     max=10.0,\n",
    "#     step=1.0,\n",
    "#     description='Litres:',\n",
    "#     disabled=False\n",
    "# )\n",
    "\n",
    "# input_paint_coverage = widgets.BoundedFloatText(\n",
    "#     value=17,\n",
    "#     min=0,\n",
    "#     max=100.0,\n",
    "#     step=1.0,\n",
    "#     description='Coverage:',\n",
    "#     disabled=False\n",
    "# )\n",
    "\n",
    "# input_paint_info = widgets.HBox([input_paint_price, input_paint_unit, input_paint_coverage])\n",
    "\n",
    "# input_paint_info_accordion = widgets.Accordion(children=[input_paint_info], selected_index=None)\n",
    "# input_paint_info_accordion.set_title(0, \"Paint Information...\")"
   ]
  },
  {
   "cell_type": "code",
   "execution_count": null,
   "metadata": {},
   "outputs": [],
   "source": []
  },
  {
   "cell_type": "code",
   "execution_count": null,
   "metadata": {},
   "outputs": [],
   "source": []
  }
 ],
 "metadata": {
  "kernelspec": {
   "display_name": "Python 3",
   "language": "python",
   "name": "python3"
  },
  "language_info": {
   "codemirror_mode": {
    "name": "ipython",
    "version": 3
   },
   "file_extension": ".py",
   "mimetype": "text/x-python",
   "name": "python",
   "nbconvert_exporter": "python",
   "pygments_lexer": "ipython3",
   "version": "3.8.5"
  }
 },
 "nbformat": 4,
 "nbformat_minor": 1
}
