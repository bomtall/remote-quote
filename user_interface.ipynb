{
 "cells": [
  {
   "cell_type": "code",
   "execution_count": 6,
   "metadata": {
    "pycharm": {
     "name": "#%%\n"
    }
   },
   "outputs": [],
   "source": [
    "import ipywidgets as widgets\n",
    "import core\n",
    "import paint_link\n",
    "import base64\n",
    "from IPython.display import display\n",
    "from ipywidgets import HTML\n"
   ]
  },
  {
   "cell_type": "markdown",
   "metadata": {},
   "source": [
    "## RemoteQuote"
   ]
  },
  {
   "cell_type": "code",
   "execution_count": 17,
   "metadata": {},
   "outputs": [],
   "source": [
    "# input_number_of_rooms = widgets.BoundedIntText(\n",
    "#     value=1,\n",
    "#     min=1,\n",
    "#     max=30,\n",
    "#     step=1,\n",
    "#     description='Rooms',\n",
    "#     disabled=False\n",
    "# )\n",
    "\n",
    "# display(input_number_of_rooms)\n",
    "\n",
    "# room_button = widgets.Button(\n",
    "#     description='Create Rooms',\n",
    "#     disabled=False,\n",
    "#     button_style='', # 'success', 'info', 'warning', 'danger' or ''\n",
    "#     tooltip='Click me',\n",
    "#     icon='check' # (FontAwesome names without the `fa-` prefix))\n",
    "# )\n",
    "\n",
    "# display(room_button)\n",
    "\n",
    "# room_button.on_click(room_button_callback)\n",
    "\n",
    "\n",
    "    "
   ]
  },
  {
   "cell_type": "code",
   "execution_count": 18,
   "metadata": {},
   "outputs": [],
   "source": [
    "input_surface = widgets.Dropdown(\n",
    "    options=['Wall', 'Ceiling', 'Door', 'Doorframe', 'Skirting Board', 'Elaborate Cornice', 'Window', 'Windowsill'],\n",
    "    value='Wall',\n",
    "    description='Surface:',\n",
    "    disabled=False,\n",
    ")\n",
    "\n"
   ]
  },
  {
   "cell_type": "code",
   "execution_count": 4,
   "metadata": {},
   "outputs": [],
   "source": [
    "def input_surface_switch():\n",
    "    \n",
    "    if input_surface.value == 'Ceiling':\n",
    "        surface = core.Ceiling\n",
    "    elif input_surface.value == 'Door':\n",
    "        surface = core.Door\n",
    "    elif input_surface.value == 'Doorframe':\n",
    "        surface = core.Doorframe\n",
    "    elif input_surface.value == 'Skirting Board':\n",
    "        surface = core.Skirtingboard\n",
    "    elif input_surface.value == 'Elaborate Cornice':\n",
    "        surface = core.ElaborateCornice\n",
    "    elif input_surface.value == 'Window':\n",
    "        surface = core.Window\n",
    "    elif input_surface.value == 'Windowsill':\n",
    "        surface = core.Windowsill\n",
    "    else:\n",
    "        surface = core.Wall\n",
    "        \n",
    "    return surface\n",
    "\n",
    "\n",
    "        "
   ]
  },
  {
   "cell_type": "code",
   "execution_count": null,
   "metadata": {},
   "outputs": [],
   "source": []
  },
  {
   "cell_type": "code",
   "execution_count": 20,
   "metadata": {},
   "outputs": [],
   "source": [
    "input_surface_area = widgets.BoundedFloatText(\n",
    "    value=10,\n",
    "    min=0,\n",
    "    max=1000.0,\n",
    "    step=1.0,\n",
    "    description='msq:',\n",
    "    disabled=False\n",
    ")\n",
    "\n",
    "# display(input_surface_area)"
   ]
  },
  {
   "cell_type": "code",
   "execution_count": 21,
   "metadata": {},
   "outputs": [],
   "source": [
    "input_condition_option = widgets.Dropdown(\n",
    "    options=['poor', 'okay', 'good'],\n",
    "    value='good',\n",
    "    description='Condition:',\n",
    "    disabled=False,\n",
    ")"
   ]
  },
  {
   "cell_type": "code",
   "execution_count": 22,
   "metadata": {},
   "outputs": [],
   "source": [
    "# def input_condition_switch():\n",
    "#     if input_condition_option.value = 'poor':\n",
    "#         return 'poor'\n",
    "#     elif input_condition_option.value = 'okay':\n",
    "#         return 'okay'\n",
    "#     else:\n",
    "#         return 'good'\n",
    "        \n",
    "    "
   ]
  },
  {
   "cell_type": "code",
   "execution_count": 23,
   "metadata": {},
   "outputs": [],
   "source": [
    "input_paint_finish_choice = widgets.ToggleButtons(\n",
    "    options=['Emulsion Paint', 'Oil Paint', 'Custom Input'],\n",
    "    description='Paint Type:',\n",
    "    disabled=False,\n",
    "    button_style='', # 'success', 'info', 'warning', 'danger' or ''\n",
    "    tooltips=['Water Based Emulsion', 'Solvent Based Paint', 'Input custom Paint Parameters'],\n",
    "    value = None\n",
    "#     icons=['check'] * 3\n",
    "    \n",
    ")\n",
    "\n",
    "\n"
   ]
  },
  {
   "cell_type": "code",
   "execution_count": 5,
   "metadata": {},
   "outputs": [
    {
     "data": {
      "application/vnd.jupyter.widget-view+json": {
       "model_id": "c7e38217ea314d2c8cc96607f46eb433",
       "version_major": 2,
       "version_minor": 0
      },
      "text/plain": [
       "Dropdown(description='Number:', index=1, options=('1', '2', '3'), value='2')"
      ]
     },
     "metadata": {},
     "output_type": "display_data"
    }
   ],
   "source": [
    "emulsion_choices = widgets.Dropdown(\n",
    "    options=['Vinyl Matt Emulsion', 'Diamond Matt Emulsion', 'Silk Emulsion'],\n",
    "    value='Vinyl Matt Emulsion',\n",
    "    description='Finish:',\n",
    "    disabled=False,\n",
    ")\n"
   ]
  },
  {
   "cell_type": "code",
   "execution_count": 7,
   "metadata": {},
   "outputs": [
    {
     "ename": "AttributeError",
     "evalue": "module 'paint_link' has no attribute 'OilSatin'",
     "output_type": "error",
     "traceback": [
      "\u001b[1;31m---------------------------------------------------------------------------\u001b[0m",
      "\u001b[1;31mAttributeError\u001b[0m                            Traceback (most recent call last)",
      "\u001b[1;32m<ipython-input-7-cf6b9233cacd>\u001b[0m in \u001b[0;36m<module>\u001b[1;34m\u001b[0m\n\u001b[0;32m      4\u001b[0m \u001b[0moil_eggshell\u001b[0m \u001b[1;33m=\u001b[0m \u001b[0mpaint_link\u001b[0m\u001b[1;33m.\u001b[0m\u001b[0mOilEggshell\u001b[0m\u001b[1;33m(\u001b[0m\u001b[1;33m)\u001b[0m\u001b[1;33m\u001b[0m\u001b[1;33m\u001b[0m\u001b[0m\n\u001b[0;32m      5\u001b[0m \u001b[0moil_gloss\u001b[0m \u001b[1;33m=\u001b[0m \u001b[0mpaint_link\u001b[0m\u001b[1;33m.\u001b[0m\u001b[0mOilGloss\u001b[0m\u001b[1;33m(\u001b[0m\u001b[1;33m)\u001b[0m\u001b[1;33m\u001b[0m\u001b[1;33m\u001b[0m\u001b[0m\n\u001b[1;32m----> 6\u001b[1;33m \u001b[0moil_satinwood\u001b[0m \u001b[1;33m=\u001b[0m \u001b[0mpaint_link\u001b[0m\u001b[1;33m.\u001b[0m\u001b[0mOilSatin\u001b[0m\u001b[1;33m\u001b[0m\u001b[1;33m\u001b[0m\u001b[0m\n\u001b[0m\u001b[0;32m      7\u001b[0m \u001b[1;33m\u001b[0m\u001b[0m\n",
      "\u001b[1;31mAttributeError\u001b[0m: module 'paint_link' has no attribute 'OilSatin'"
     ]
    }
   ],
   "source": [
    "vinyl_matt_emulsion = paint_link.MattEmulsionPaint()\n",
    "diamond_matt_emulsion = paint_link.DiamondMattEmulsion()\n",
    "silk_emulsion = paint_link.SilkEmulsionPaint()\n",
    "oil_eggshell = paint_link.OilEggshell()\n",
    "oil_gloss = paint_link.OilGloss()\n",
    "oil_satinwood = paint_link.OilSatin\n",
    "\n"
   ]
  },
  {
   "cell_type": "code",
   "execution_count": 9,
   "metadata": {},
   "outputs": [],
   "source": [
    "def togglebutton_callback(change):\n",
    "    if change['new'] == 'Emulsion Paint':\n",
    "        emulsion_choices.layout.visibility = 'visible'\n",
    "        emulsion_choices.options = ['Vinyl Matt Emulsion', 'Diamond Matt Emulsion', 'Silk Emulsion']\n",
    "        \n",
    "        input_paint_price.value = vinyl_matt_emulsion.price\n",
    "        input_paint_price.disabled = True\n",
    "        input_paint_unit.value = vinyl_matt_emulsion.unit\n",
    "        input_paint_unit.disabled = True\n",
    "        input_paint_coverage.value = vinyl_matt_emulsion.coverage\n",
    "        input_paint_coverage.disabled = True\n",
    "               \n",
    "    elif change['new'] == 'Oil Paint':\n",
    "        emulsion_choices.layout.visibility = 'visible'\n",
    "        emulsion_choices.options = ['Eggshell', 'Gloss', 'Satinwood']\n",
    "        \n",
    "        input_paint_price.value = oil_eggshell.price\n",
    "        input_paint_price.disabled = True\n",
    "        input_paint_unit.value = oil_eggshell.unit\n",
    "        input_paint_unit.disabled = True\n",
    "        input_paint_coverage.value = 50\n",
    "        input_paint_coverage.disabled = True\n",
    "        \n",
    "    else:\n",
    "        emulsion_choices.layout.visibility = 'hidden'      #options = ['custom']\n",
    "        input_paint_price.value = 30\n",
    "        input_paint_price.disabled = False\n",
    "        input_paint_coverage.disabled = False\n",
    "        input_paint_unit.disabled = False\n",
    "        input_paint_coverage.value = 50\n",
    "    "
   ]
  },
  {
   "cell_type": "code",
   "execution_count": 14,
   "metadata": {},
   "outputs": [],
   "source": [
    "def emulsion_choices_callback(change):\n",
    "    if emulsion_choices.value == 'Vinyl Matt Emulsion':\n",
    "        input_paint_price.value = vinyl_matt_emulsion.price\n",
    "        input_paint_price.disabled = True\n",
    "        input_paint_unit.value = vinyl_matt_emulsion.unit\n",
    "        input_paint_unit.disabled = True\n",
    "        input_paint_coverage.value = vinyl_matt_emulsion.coverage\n",
    "        input_paint_coverage.disabled = True\n",
    "    elif emulsion_choices.value == 'Diamond Matt Emulsion':\n",
    "        input_paint_price.value = diamond_matt_emulsion.price\n",
    "        input_paint_price.disabled = True\n",
    "        input_paint_unit.value = diamond_emulsion.unit\n",
    "        input_paint_unit.disabled = True\n",
    "        input_paint_coverage.value = diamond_matt_emulsion.coverage\n",
    "        input_paint_coverage.disabled = True\n",
    "    elif emulsion_choices.value == 'Silk Emulsion':\n",
    "        input_paint_price.value = silk_emulsion.price\n",
    "        input_paint_price.disabled = True\n",
    "        input_paint_unit.value = silk_emulsion.unit\n",
    "        input_paint_unit.disabled = True\n",
    "        input_paint_coverage.value = silk_emulsion.coverage\n",
    "        input_paint_coverage.disabled = True\n",
    "    elif emulsion_choices.value == 'Eggshell':\n",
    "        input_paint_price.value = oil_eggshell.price\n",
    "        input_paint_price.disabled = True\n",
    "        input_paint_unit.value = oil_eggshell.unit\n",
    "        input_paint_unit.disabled = True\n",
    "        input_paint_coverage.value = oil_eggshell.coverage\n",
    "        input_paint_coverage.disabled = True\n",
    "    elif emulsion_choices.value == 'Gloss':\n",
    "        input_paint_price.value = oil_gloss.price\n",
    "        input_paint_price.disabled = True\n",
    "        input_paint_unit.value = oil_gloss.unit\n",
    "        input_paint_unit.disabled = True\n",
    "        input_paint_coverage.value = oil_gloss.coverage\n",
    "        input_paint_coverage.disabled = True\n",
    "    elif emulsion_choices.value == 'Satinwood':\n",
    "        input_paint_price.value = oil_satinwood.price\n",
    "        input_paint_price.disabled = True\n",
    "        input_paint_unit.value = oil_satinwood.unit\n",
    "        input_paint_unit.disabled = True\n",
    "        input_paint_coverage.value = oil_satinwood.coverage\n",
    "        input_paint_coverage.disabled = True"
   ]
  },
  {
   "cell_type": "code",
   "execution_count": 25,
   "metadata": {},
   "outputs": [],
   "source": [
    "input_paint_finish_choice.observe(togglebutton_callback, 'value')\n",
    "emulsion_choices.observe(emulsion_choices_callback, 'value')"
   ]
  },
  {
   "cell_type": "code",
   "execution_count": null,
   "metadata": {},
   "outputs": [],
   "source": []
  },
  {
   "cell_type": "code",
   "execution_count": 26,
   "metadata": {},
   "outputs": [],
   "source": [
    "input_paint_price = widgets.BoundedFloatText(\n",
    "    value=30,\n",
    "    min=0,\n",
    "    max=1000.0,\n",
    "    step=1.0,\n",
    "    description='£:',\n",
    "    disabled=False\n",
    ")\n",
    "\n",
    "input_paint_unit = widgets.BoundedFloatText(\n",
    "    value=5,\n",
    "    min=0,\n",
    "    max=10.0,\n",
    "    step=1.0,\n",
    "    description='Litres:',\n",
    "    disabled=False\n",
    ")\n",
    "\n",
    "input_paint_coverage = widgets.BoundedFloatText(\n",
    "    value=17,\n",
    "    min=0,\n",
    "    max=100.0,\n",
    "    step=1.0,\n",
    "    description='Coverage:',\n",
    "    disabled=False\n",
    ")\n",
    "\n",
    "\n",
    "input_paint_info = widgets.HBox([input_paint_price, input_paint_unit, input_paint_coverage])\n",
    "\n",
    "\n",
    "input_paint_info_accordion = widgets.Accordion(children=[input_paint_info], selected_index=None,)\n",
    "input_paint_info_accordion.set_title(0, \"Paint Information...\")\n",
    "\n",
    "\n",
    "input_paint_info_accordion.layout.visibility = 'visible'\n",
    "\n",
    "\n"
   ]
  },
  {
   "cell_type": "code",
   "execution_count": null,
   "metadata": {},
   "outputs": [],
   "source": []
  },
  {
   "cell_type": "code",
   "execution_count": 3,
   "metadata": {},
   "outputs": [],
   "source": [
    "def calculate_button_callback(*args, **kwargs):\n",
    "    incorrect_inputs = False\n",
    "    \n",
    "    surface_class = input_surface_switch()\n",
    "    \n",
    "    substrate = core.PrePaintedEmulsion(condition=input_condition_option.value)\n",
    "    \n",
    "    surface = surface_class(input_surface_area.value, substrate=substrate)\n",
    "    \n",
    "    if input_paint_finish_choice.value == 'Custom Input':\n",
    "        \n",
    "        applicant = core.Paint(input_paint_price.value, input_paint_unit.value, input_paint_coverage.value)\n",
    "    \n",
    "    #if input_paint_finish_choice.value == 'Emulsion Paint':\n",
    "    if emulsion_choices.value == 'Vinyl Matt Emulsion':\n",
    "        applicant = paint_link.MattEmulsionPaint()\n",
    "    elif emulsion_choices.value == 'Diamond Matt Emulsion':\n",
    "        applicant = paint_link.DiamondMattEmulsion()\n",
    "    elif emulsion_choices.value == 'Silk Emulsion':\n",
    "        applicant = paint_link.SilkEmulsionPaint()\n",
    "       \n",
    "    \n",
    "        \n",
    "    #elif input_paint_finish_choice.value == 'Oil Paint':\n",
    "    elif emulsion_choices.value == 'Eggshell':\n",
    "        applicant = paint_link.OilEggshell()\n",
    "    elif emulsion_choices.value == 'Gloss':\n",
    "        applicant = paint_link.OilGloss()\n",
    "    elif emulsion_choices.value == 'Satinwood':\n",
    "        applicant = paint_link.OilSatin\n",
    "    else:\n",
    "        incorrect_inputs = True\n",
    "        \n",
    "        \n",
    "        \n",
    "    if incorrect_inputs:\n",
    "        output.value = 'Incorrect Inputs'\n",
    "    else:        \n",
    "        paint_surface = core.PaintingSurface(surface, applicant)\n",
    "    \n",
    "        output.value = f'{paint_surface.get_total_price():.2f}' \n",
    "        \n",
    "        VAT_price = f'{(paint_surface.get_total_price()/100) * 120 :.2f}'\n",
    "        \n",
    "        \n",
    "        res = f'''\n",
    "        \n",
    "        Your RemoteQuote\n",
    "        Total {paint_surface.get_total_price():.2f}\n",
    "        + VAT (If applicable) {(paint_surface.get_total_price()/100) * 120 :.2f}\n",
    "        '''\n",
    "\n",
    "        #FILE\n",
    "        filename = 'quote.txt'\n",
    "        b64 = base64.b64encode(res.encode())\n",
    "        payload = b64.decode()\n",
    "\n",
    "        #BUTTONS\n",
    "        html_buttons = '''<html>\n",
    "        <head>\n",
    "        <meta name=\"viewport\" content=\"width=device-width, initial-scale=1\">\n",
    "        </head>\n",
    "        <body>\n",
    "        <a download=\"{filename}\" href=\"data:text/csv;base64,{payload}\" download>\n",
    "        <button class=\"p-Widget jupyter-widgets jupyter-button widget-button mod-info\">Download Quote</button>\n",
    "        </a>\n",
    "        </body>\n",
    "        </html>\n",
    "        '''\n",
    "\n",
    "        html_button = html_buttons.format(payload=payload,filename=filename)\n",
    "        display(HTML(html_button))\n",
    "        \n",
    "        output.value = html_button + output.value\n",
    "        \n",
    "    \n",
    "        \n",
    "        \n",
    "        "
   ]
  },
  {
   "cell_type": "code",
   "execution_count": 28,
   "metadata": {
    "pycharm": {
     "name": "#%%\n"
    }
   },
   "outputs": [],
   "source": [
    "calculate_button = widgets.Button(\n",
    "    description='Estimate Job',\n",
    "    disabled=False,\n",
    "    button_style='', # 'success', 'info', 'warning', 'danger' or ''\n",
    "    tooltip='Calculate',\n",
    "    icon='check' # (FontAwesome names without the `fa-` prefix)\n",
    "    \n",
    "    \n",
    ")\n",
    "calculate_button.style.button_color='palegreen'\n",
    "\n",
    "calculate_button.on_click(calculate_button_callback)\n",
    "\n",
    "\n"
   ]
  },
  {
   "cell_type": "code",
   "execution_count": 29,
   "metadata": {},
   "outputs": [],
   "source": [
    "output = widgets.HTML()"
   ]
  },
  {
   "cell_type": "code",
   "execution_count": 1,
   "metadata": {},
   "outputs": [
    {
     "ename": "NameError",
     "evalue": "name 'widgets' is not defined",
     "output_type": "error",
     "traceback": [
      "\u001b[1;31m---------------------------------------------------------------------------\u001b[0m",
      "\u001b[1;31mNameError\u001b[0m                                 Traceback (most recent call last)",
      "\u001b[1;32m<ipython-input-1-36a9aa6e0373>\u001b[0m in \u001b[0;36m<module>\u001b[1;34m\u001b[0m\n\u001b[1;32m----> 1\u001b[1;33m \u001b[0mfinal_box\u001b[0m \u001b[1;33m=\u001b[0m \u001b[0mwidgets\u001b[0m\u001b[1;33m.\u001b[0m\u001b[0mVBox\u001b[0m\u001b[1;33m(\u001b[0m\u001b[1;33m[\u001b[0m\u001b[0minput_surface\u001b[0m\u001b[1;33m,\u001b[0m \u001b[0minput_surface_area\u001b[0m\u001b[1;33m,\u001b[0m \u001b[0minput_condition_option\u001b[0m\u001b[1;33m,\u001b[0m \u001b[0minput_paint_finish_choice\u001b[0m\u001b[1;33m,\u001b[0m \u001b[0minput_paint_info_accordion\u001b[0m\u001b[1;33m,\u001b[0m\u001b[1;33m]\u001b[0m\u001b[1;33m,\u001b[0m \u001b[1;33m)\u001b[0m\u001b[1;33m\u001b[0m\u001b[1;33m\u001b[0m\u001b[0m\n\u001b[0m\u001b[0;32m      2\u001b[0m \u001b[1;33m\u001b[0m\u001b[0m\n\u001b[0;32m      3\u001b[0m \u001b[1;31m# display(calculate_button, output)\u001b[0m\u001b[1;33m\u001b[0m\u001b[1;33m\u001b[0m\u001b[1;33m\u001b[0m\u001b[0m\n\u001b[0;32m      4\u001b[0m \u001b[1;33m\u001b[0m\u001b[0m\n\u001b[0;32m      5\u001b[0m \u001b[0mresult\u001b[0m \u001b[1;33m=\u001b[0m \u001b[0mwidgets\u001b[0m\u001b[1;33m.\u001b[0m\u001b[0mVBox\u001b[0m\u001b[1;33m(\u001b[0m\u001b[1;33m[\u001b[0m\u001b[0mcalculate_button\u001b[0m\u001b[1;33m,\u001b[0m \u001b[0moutput\u001b[0m\u001b[1;33m]\u001b[0m\u001b[1;33m)\u001b[0m\u001b[1;33m\u001b[0m\u001b[1;33m\u001b[0m\u001b[0m\n",
      "\u001b[1;31mNameError\u001b[0m: name 'widgets' is not defined"
     ]
    }
   ],
   "source": [
    "\n",
    "\n",
    "final_box = widgets.VBox([input_surface, input_surface_area, input_condition_option, input_paint_finish_choice, emulsion_choices, input_paint_info_accordion,], )\n",
    "\n",
    "# display(calculate_button, output)\n",
    "\n",
    "result = widgets.VBox([calculate_button, output])\n",
    "\n",
    "tab_contents = ['Room' + str(x + 1) for x in range(2)]\n",
    "\n",
    "children = [final_box for name in tab_contents]\n",
    "\n",
    "tab = widgets.Tab()\n",
    "tab.children = children\n",
    "\n",
    "for i in range(len(children)):\n",
    "    tab.set_title(title=tab_contents[i], index=i)\n",
    "\n",
    "display(tab, result)\n",
    "\n",
    "    \n",
    "# def room_button_callback(*args, **kwargs):\n",
    "#     tab_contents = ['Room' + str(x + 1) for x in range(input_number_of_rooms.value)]\n",
    "#     children = [final_box for name in tab_contents]\n",
    "\n",
    "#     tab = widgets.Tab()\n",
    "#     tab.children = children\n",
    "\n",
    "#     for i in range(len(children)):\n",
    "#         tab.set_title(title=tab_contents[i], index=i)\n",
    "#     tab\n",
    "#     display(tab)\n",
    "\n",
    "# # display(final_box)\n",
    "\n",
    "# # tab_contents = ['Room1', 'Room2', 'Room3', 'Room4', 'Room5']\n",
    "\n",
    "\n",
    "\n",
    "\n",
    "\n",
    "\n",
    "\n",
    "\n",
    "# room_button.on_click(room_button_callback)\n",
    "\n",
    "\n",
    "\n",
    "    \n"
   ]
  },
  {
   "cell_type": "code",
   "execution_count": null,
   "metadata": {},
   "outputs": [],
   "source": [
    "\n",
    "\n",
    "\n"
   ]
  },
  {
   "cell_type": "code",
   "execution_count": null,
   "metadata": {},
   "outputs": [],
   "source": []
  },
  {
   "cell_type": "code",
   "execution_count": null,
   "metadata": {},
   "outputs": [],
   "source": []
  }
 ],
 "metadata": {
  "kernelspec": {
   "display_name": "Python 3",
   "language": "python",
   "name": "python3"
  },
  "language_info": {
   "codemirror_mode": {
    "name": "ipython",
    "version": 3
   },
   "file_extension": ".py",
   "mimetype": "text/x-python",
   "name": "python",
   "nbconvert_exporter": "python",
   "pygments_lexer": "ipython3",
   "version": "3.8.5"
  }
 },
 "nbformat": 4,
 "nbformat_minor": 1
}
